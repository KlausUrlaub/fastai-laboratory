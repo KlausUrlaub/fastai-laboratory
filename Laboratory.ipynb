{
 "cells": [
  {
   "cell_type": "markdown",
   "metadata": {},
   "source": [
    "# Laboratório 2 - fast.ai DL1 2019 Brasília"
   ]
  },
  {
   "cell_type": "markdown",
   "metadata": {},
   "source": [
    "Bem-vindos ao laboratório 2 da turma fast.ai DL1 2019 Brasília. O objetivo do laboratório é consolidar e expandir conhecimentos obtidos nas aulas 3 e 4. Mas principalmente o conteúdo de NLP(Natural Language Processing) ou PLN(processamento de linguagem natural).\n",
    "\n",
    "O principal desse laboratório é o treinamento de um classificador de textos de reclamações para companhias aéreas. Os textos serão classificados de acordo com o seu tema. Esses são dados reais da ANAC e portanto não temos um benchmark oficial para verificar se os resultados são bons ou ruins. Se atenha a esse notebook como um guia de como utilizar a fastai, e por consequência o ULMFIT, para classificação de textos."
   ]
  },
  {
   "cell_type": "markdown",
   "metadata": {},
   "source": [
    "## Importação de bibliotecas"
   ]
  },
  {
   "cell_type": "code",
   "execution_count": 17,
   "metadata": {},
   "outputs": [],
   "source": [
    "from fastai.text import *\n",
    "import pandas as pd\n",
    "from sklearn.metrics import classification_report"
   ]
  },
  {
   "cell_type": "code",
   "execution_count": 14,
   "metadata": {},
   "outputs": [],
   "source": [
    "#ajustando os caminhos que serão utilizados\n",
    "\n",
    "datapath = Path('../data')\n",
    "modelspath = Path('../models')\n",
    "path = Path('../')\n",
    "best_model_path = Path('../models/bestmodel30k')"
   ]
  },
  {
   "cell_type": "markdown",
   "metadata": {},
   "source": [
    "## Downloads"
   ]
  },
  {
   "cell_type": "markdown",
   "metadata": {},
   "source": [
    "Download dos dados de classificação com as reclamações"
   ]
  },
  {
   "cell_type": "code",
   "execution_count": null,
   "metadata": {},
   "outputs": [],
   "source": [
    "#Criar as pastas\n",
    "!mkdir ../data/\n",
    "!mkdir ../models\n",
    "# Download dos dados\n",
    "!curl https://storage.googleapis.com/gde-dl-bsb/data/reclamacoes.csv -o data/reclamacoes.csv\n",
    "# Download do modelo em portugues pretreinado na wikipedia\n",
    "!curl https://storage.googleapis.com/gde-dl-bsb/models/bestmodel30k.pth -o models/bestmodel30k.pth\n",
    "# Download do vocabulário\n",
    "!curl https://storage.googleapis.com/gde-dl-bsb/models/itos.pkl"
   ]
  },
  {
   "cell_type": "markdown",
   "metadata": {},
   "source": [
    "## Importar dados"
   ]
  },
  {
   "cell_type": "code",
   "execution_count": 2,
   "metadata": {},
   "outputs": [],
   "source": [
    "df = pd.read_csv(datapath.joinpath('reclamacoes.csv'), sep=';')"
   ]
  },
  {
   "cell_type": "code",
   "execution_count": 3,
   "metadata": {},
   "outputs": [
    {
     "data": {
      "text/html": [
       "<div>\n",
       "<style scoped>\n",
       "    .dataframe tbody tr th:only-of-type {\n",
       "        vertical-align: middle;\n",
       "    }\n",
       "\n",
       "    .dataframe tbody tr th {\n",
       "        vertical-align: top;\n",
       "    }\n",
       "\n",
       "    .dataframe thead th {\n",
       "        text-align: right;\n",
       "    }\n",
       "</style>\n",
       "<table border=\"1\" class=\"dataframe\">\n",
       "  <thead>\n",
       "    <tr style=\"text-align: right;\">\n",
       "      <th></th>\n",
       "      <th>manifestacao_clean</th>\n",
       "      <th>TEMA</th>\n",
       "      <th>SUBTEMA</th>\n",
       "    </tr>\n",
       "  </thead>\n",
       "  <tbody>\n",
       "    <tr>\n",
       "      <th>0</th>\n",
       "      <td>Olá em 26/06 comprei o localizador 8RK87X para...</td>\n",
       "      <td>Alteração pela empresa aérea</td>\n",
       "      <td>Alternativas (reacomodação, reembolso integral...</td>\n",
       "    </tr>\n",
       "    <tr>\n",
       "      <th>1</th>\n",
       "      <td>Prezados, Abri o processo junto a LATAM pra te...</td>\n",
       "      <td>Transporte de bagagem</td>\n",
       "      <td>Extravio</td>\n",
       "    </tr>\n",
       "    <tr>\n",
       "      <th>2</th>\n",
       "      <td>No dia 17/12 comprei uma passagem, Vitória x C...</td>\n",
       "      <td>Alteração pelo passageiro</td>\n",
       "      <td>Remarcação e resilição</td>\n",
       "    </tr>\n",
       "    <tr>\n",
       "      <th>3</th>\n",
       "      <td>Estou tendo um problema! Recentemente fiz a co...</td>\n",
       "      <td>Programas de Fidelidade</td>\n",
       "      <td>Programas de Fidelidade</td>\n",
       "    </tr>\n",
       "    <tr>\n",
       "      <th>4</th>\n",
       "      <td>Olá, Minha mala retornou da viagem de Recife c...</td>\n",
       "      <td>Transporte de bagagem</td>\n",
       "      <td>Avaria</td>\n",
       "    </tr>\n",
       "  </tbody>\n",
       "</table>\n",
       "</div>"
      ],
      "text/plain": [
       "                                  manifestacao_clean  \\\n",
       "0  Olá em 26/06 comprei o localizador 8RK87X para...   \n",
       "1  Prezados, Abri o processo junto a LATAM pra te...   \n",
       "2  No dia 17/12 comprei uma passagem, Vitória x C...   \n",
       "3  Estou tendo um problema! Recentemente fiz a co...   \n",
       "4  Olá, Minha mala retornou da viagem de Recife c...   \n",
       "\n",
       "                           TEMA  \\\n",
       "0  Alteração pela empresa aérea   \n",
       "1         Transporte de bagagem   \n",
       "2     Alteração pelo passageiro   \n",
       "3       Programas de Fidelidade   \n",
       "4         Transporte de bagagem   \n",
       "\n",
       "                                             SUBTEMA  \n",
       "0  Alternativas (reacomodação, reembolso integral...  \n",
       "1                                           Extravio  \n",
       "2                             Remarcação e resilição  \n",
       "3                            Programas de Fidelidade  \n",
       "4                                             Avaria  "
      ]
     },
     "execution_count": 3,
     "metadata": {},
     "output_type": "execute_result"
    }
   ],
   "source": [
    "df.head()"
   ]
  },
  {
   "cell_type": "markdown",
   "metadata": {},
   "source": [
    "### Exemplos"
   ]
  },
  {
   "cell_type": "code",
   "execution_count": 8,
   "metadata": {},
   "outputs": [
    {
     "data": {
      "text/plain": [
       "array(['Boa tarde, após uma péssima experiência com a Azul, solicito reembolso da minha passagem aérea. Todo o problema se iniciou no dia de ida(03/08/2018) chegamos com antecedência ao local de embarque, conforme solicitado pela agência.  Feito o check in, prosseguimos para o embarque, nosso voo decolou, e ao estar próximo ao local de destino (Cascavel) retornou devido ao mal tempo, fomos separados por um funcionário da Azul em 15 pessoas para decolar no voo seguinte, os demais passageiros foram encaminhados para um outro voo e alguns poucos restantes foram encaminhados de volta para suas residencias. No voo seguinte ocorreu a mesma situação, chegamos próximo ao destino e retornamos, novamente foi feito a mesma coisa, encaminhados para um próximo voo. Neste voo citado anteriormente chegamos à porta do avião e foi solicitado que voltássemos por não ter condições de decolagem. Após isso, fomos chamados e encaminhados ao voo para Maringá, de la pegaríamos um ônibus para Cascavel, decolamos e mais uma vez próximo ao destino fomos encaminhados para retorno, dessa vez para Presidente Prudente, chegando lá NÃO HAVIA ÔNIBUS, REFEIÇÃO E NEM OS PRÓPRIOS FUNCIONÁRIOS SABIAM QUE ESTÁVAMOS À CAMINHO.  Após UMA HORA E MEIA DE ESPERA, foi solicitado um ônibus (semi-leito) para Cascavel, chegamos em Cascavel às 6:10 da manhã do dia seguinte. Isso é um absurdo! Como faço para prosseguir com o reembolso da minha esposa e o meu? Pagamos passagem para o dia 03 com transporte de avião, e no fim das contas chegamos no dia 04, com transporte de ônibus. Pedido à Empresa DEVOLUÇÃO DO VALOR PAGO ',\n",
       "       'Execução do voo', 'Atraso/Alternativas (reacomodação, reembolso integral ou outra modalidade de transporte)'],\n",
       "      dtype=object)"
      ]
     },
     "execution_count": 8,
     "metadata": {},
     "output_type": "execute_result"
    }
   ],
   "source": [
    "df.sample().values[0]"
   ]
  },
  {
   "cell_type": "code",
   "execution_count": 12,
   "metadata": {},
   "outputs": [
    {
     "data": {
      "text/html": [
       "<div>\n",
       "<style scoped>\n",
       "    .dataframe tbody tr th:only-of-type {\n",
       "        vertical-align: middle;\n",
       "    }\n",
       "\n",
       "    .dataframe tbody tr th {\n",
       "        vertical-align: top;\n",
       "    }\n",
       "\n",
       "    .dataframe thead th {\n",
       "        text-align: right;\n",
       "    }\n",
       "</style>\n",
       "<table border=\"1\" class=\"dataframe\">\n",
       "  <thead>\n",
       "    <tr style=\"text-align: right;\">\n",
       "      <th></th>\n",
       "      <th>manifestacao_clean</th>\n",
       "      <th>SUBTEMA</th>\n",
       "    </tr>\n",
       "    <tr>\n",
       "      <th>TEMA</th>\n",
       "      <th></th>\n",
       "      <th></th>\n",
       "    </tr>\n",
       "  </thead>\n",
       "  <tbody>\n",
       "    <tr>\n",
       "      <th>Alteração pela empresa aérea</th>\n",
       "      <td>4340</td>\n",
       "      <td>4340</td>\n",
       "    </tr>\n",
       "    <tr>\n",
       "      <th>Alteração pelo passageiro</th>\n",
       "      <td>3992</td>\n",
       "      <td>3992</td>\n",
       "    </tr>\n",
       "    <tr>\n",
       "      <th>Assistência ao PNAE</th>\n",
       "      <td>386</td>\n",
       "      <td>386</td>\n",
       "    </tr>\n",
       "    <tr>\n",
       "      <th>Check-in e embarque</th>\n",
       "      <td>2311</td>\n",
       "      <td>2311</td>\n",
       "    </tr>\n",
       "    <tr>\n",
       "      <th>Execução do voo</th>\n",
       "      <td>5097</td>\n",
       "      <td>5097</td>\n",
       "    </tr>\n",
       "    <tr>\n",
       "      <th>Oferta e compra</th>\n",
       "      <td>4914</td>\n",
       "      <td>4914</td>\n",
       "    </tr>\n",
       "    <tr>\n",
       "      <th>Outros</th>\n",
       "      <td>2483</td>\n",
       "      <td>2483</td>\n",
       "    </tr>\n",
       "    <tr>\n",
       "      <th>Programas de Fidelidade</th>\n",
       "      <td>3521</td>\n",
       "      <td>3521</td>\n",
       "    </tr>\n",
       "    <tr>\n",
       "      <th>Reclamações contra valores e regras do contrato</th>\n",
       "      <td>5165</td>\n",
       "      <td>5165</td>\n",
       "    </tr>\n",
       "    <tr>\n",
       "      <th>Reembolso</th>\n",
       "      <td>2412</td>\n",
       "      <td>2412</td>\n",
       "    </tr>\n",
       "    <tr>\n",
       "      <th>Transporte de bagagem</th>\n",
       "      <td>4450</td>\n",
       "      <td>4450</td>\n",
       "    </tr>\n",
       "  </tbody>\n",
       "</table>\n",
       "</div>"
      ],
      "text/plain": [
       "                                                 manifestacao_clean  SUBTEMA\n",
       "TEMA                                                                        \n",
       "Alteração pela empresa aérea                                   4340     4340\n",
       "Alteração pelo passageiro                                      3992     3992\n",
       "Assistência ao PNAE                                             386      386\n",
       "Check-in e embarque                                            2311     2311\n",
       "Execução do voo                                                5097     5097\n",
       "Oferta e compra                                                4914     4914\n",
       "Outros                                                         2483     2483\n",
       "Programas de Fidelidade                                        3521     3521\n",
       "Reclamações contra valores e regras do contrato                5165     5165\n",
       "Reembolso                                                      2412     2412\n",
       "Transporte de bagagem                                          4450     4450"
      ]
     },
     "execution_count": 12,
     "metadata": {},
     "output_type": "execute_result"
    }
   ],
   "source": [
    "df.groupby('TEMA').count()"
   ]
  },
  {
   "cell_type": "markdown",
   "metadata": {},
   "source": [
    "## Pré-requisitos\n"
   ]
  },
  {
   "cell_type": "markdown",
   "metadata": {},
   "source": [
    "Objetos necessários antes de treinar o modelo."
   ]
  },
  {
   "cell_type": "code",
   "execution_count": 15,
   "metadata": {},
   "outputs": [],
   "source": [
    "#tokenizador\n",
    "tokenizer = Tokenizer(lang='pt', n_cpus=8)\n",
    "#vocabulario\n",
    "with modelspath.joinpath('itos.pkl').open('rb') as f:\n",
    "    itos = pickle.load(f)"
   ]
  },
  {
   "cell_type": "markdown",
   "metadata": {},
   "source": [
    "### Estrutura do ULMFIT"
   ]
  },
  {
   "cell_type": "markdown",
   "metadata": {},
   "source": [
    "![ULMFIT](../images/Figure_5.png)"
   ]
  },
  {
   "cell_type": "markdown",
   "metadata": {},
   "source": [
    "## Embeddings"
   ]
  },
  {
   "cell_type": "markdown",
   "metadata": {},
   "source": [
    "Word Embeddings são representações multi-dimensionais das palavras e estes são treinados a partir de uma tarefa simples. No nosso caso prever a próxima palavra com o Language Model\n",
    "\n",
    "[projector](https://projector.tensorflow.org/)"
   ]
  },
  {
   "cell_type": "markdown",
   "metadata": {},
   "source": [
    "## Language Model"
   ]
  },
  {
   "cell_type": "markdown",
   "metadata": {},
   "source": [
    "### Criar o TextLMDataBunch para realizar o transfer learning"
   ]
  },
  {
   "cell_type": "markdown",
   "metadata": {},
   "source": [
    "Gerar o TextLMDataBunch"
   ]
  },
  {
   "cell_type": "code",
   "execution_count": null,
   "metadata": {},
   "outputs": [],
   "source": [
    "train_bool = np.random.rand(len(df)) < 0.8"
   ]
  },
  {
   "cell_type": "code",
   "execution_count": null,
   "metadata": {},
   "outputs": [],
   "source": [
    "data_lm = TextLMDataBunch.from_df(path,\n",
    "                                  train_df= df[msk],\n",
    "                                  valid_df= df[~msk],\n",
    "                                  tokenizer=tokenizer,\n",
    "                                  vocab=vocab,\n",
    "                                  text_cols=0,\n",
    "                                  bs=24,\n",
    "                                  max_vocab=35000)"
   ]
  },
  {
   "cell_type": "code",
   "execution_count": null,
   "metadata": {},
   "outputs": [],
   "source": [
    "data_lm.save('data_lm')"
   ]
  },
  {
   "cell_type": "markdown",
   "metadata": {},
   "source": [
    "### Transfer Learning"
   ]
  },
  {
   "cell_type": "code",
   "execution_count": null,
   "metadata": {},
   "outputs": [],
   "source": [
    "learn = language_model_learner(data_lm, arch=AWD_LSTM, pretrained_fnames=(best_model_path,modelspath.joinpath('itos')))"
   ]
  },
  {
   "cell_type": "code",
   "execution_count": null,
   "metadata": {},
   "outputs": [],
   "source": [
    "learn.lr_find()"
   ]
  },
  {
   "cell_type": "code",
   "execution_count": null,
   "metadata": {},
   "outputs": [],
   "source": [
    "learn.recorder.plot()"
   ]
  },
  {
   "cell_type": "code",
   "execution_count": null,
   "metadata": {},
   "outputs": [],
   "source": [
    "learn.fit_one_cycle(1, max_lr=5e-2)"
   ]
  },
  {
   "cell_type": "code",
   "execution_count": null,
   "metadata": {},
   "outputs": [],
   "source": [
    "learn.save_encoder('pretrained_encoder')"
   ]
  },
  {
   "cell_type": "markdown",
   "metadata": {},
   "source": [
    "## Classificador"
   ]
  },
  {
   "cell_type": "markdown",
   "metadata": {},
   "source": [
    "### Criar o TextClasDataBunch para os dados de classificação"
   ]
  },
  {
   "cell_type": "code",
   "execution_count": null,
   "metadata": {},
   "outputs": [],
   "source": [
    "data_clas = TextClasDataBunch.from_df(path,\n",
    "                                      train_df= df[msk],\n",
    "                                      valid_df= df[~msk],\n",
    "                                      tokenizer=tokenizer,\n",
    "                                      text_cols=0,\n",
    "                                      bs=24,\n",
    "                                      vocab=vocab,\n",
    "                                      max_vocab=35000,\n",
    "                                      label_cols=1)"
   ]
  },
  {
   "cell_type": "code",
   "execution_count": null,
   "metadata": {},
   "outputs": [],
   "source": [
    "data_clas.show_batch()"
   ]
  },
  {
   "cell_type": "code",
   "execution_count": null,
   "metadata": {},
   "outputs": [],
   "source": [
    "clf = text_classifier_learner(data_clas, AWD_LSTM, drop_mult=0.5, pretrained=False)"
   ]
  },
  {
   "cell_type": "code",
   "execution_count": null,
   "metadata": {},
   "outputs": [],
   "source": [
    "clf.fit_one_cycle(5, 1e-2)"
   ]
  },
  {
   "cell_type": "code",
   "execution_count": null,
   "metadata": {},
   "outputs": [],
   "source": []
  },
  {
   "cell_type": "markdown",
   "metadata": {},
   "source": [
    "### Verificar a acurácia"
   ]
  },
  {
   "cell_type": "code",
   "execution_count": null,
   "metadata": {},
   "outputs": [],
   "source": [
    "val_probs, val_targets = clf.get_preds()"
   ]
  },
  {
   "cell_type": "code",
   "execution_count": null,
   "metadata": {},
   "outputs": [],
   "source": [
    "val_preds = torch.argmax(val_probs,1)\n",
    "\n",
    "val_acc = (val_preds == val_targets).type(torch.FloatTensor).mean().item()\n",
    "print(f'valid accuracy: {round(val_acc*100,2)}%')"
   ]
  },
  {
   "cell_type": "code",
   "execution_count": null,
   "metadata": {},
   "outputs": [],
   "source": [
    "print(classification_report(val_targets, val_preds, target_names=data_clas.valid_dl.y.classes))"
   ]
  },
  {
   "cell_type": "markdown",
   "metadata": {},
   "source": [
    "### Classificação de outros exemplos"
   ]
  },
  {
   "cell_type": "code",
   "execution_count": null,
   "metadata": {},
   "outputs": [],
   "source": [
    "clf.predict('Minha bagagem foi desviada quero que recuperem imediatamente')"
   ]
  },
  {
   "cell_type": "code",
   "execution_count": null,
   "metadata": {},
   "outputs": [],
   "source": []
  }
 ],
 "metadata": {
  "kernelspec": {
   "display_name": "Python 3",
   "language": "python",
   "name": "python3"
  },
  "language_info": {
   "codemirror_mode": {
    "name": "ipython",
    "version": 3
   },
   "file_extension": ".py",
   "mimetype": "text/x-python",
   "name": "python",
   "nbconvert_exporter": "python",
   "pygments_lexer": "ipython3",
   "version": "3.7.3"
  }
 },
 "nbformat": 4,
 "nbformat_minor": 2
}
