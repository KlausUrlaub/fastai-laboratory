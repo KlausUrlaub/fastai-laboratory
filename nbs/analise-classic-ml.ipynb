{
 "cells": [
  {
   "cell_type": "code",
   "execution_count": 1,
   "metadata": {
    "_cell_guid": "b1076dfc-b9ad-4769-8c92-a6c4dae69d19",
    "_uuid": "8f2839f25d086af736a60e9eeb907d3b93b6e0e5",
    "collapsed": true
   },
   "outputs": [],
   "source": [
    "import numpy as np # linear algebra\n",
    "import pandas as pd # data processing, CSV file I/O (e.g. pd.read_csv)\n",
    "\n",
    "train=pd.read_csv('../data/reclamacoes.csv', sep=';')"
   ]
  },
  {
   "cell_type": "code",
   "execution_count": 2,
   "metadata": {
    "_cell_guid": "79c7e3d0-c299-4dcb-8224-4455121ee9b0",
    "_uuid": "d629ff2d2480ee46fbb7e2d37f6b5fab8052498a",
    "scrolled": true
   },
   "outputs": [
    {
     "data": {
      "text/html": [
       "<div>\n",
       "<style>\n",
       "    .dataframe thead tr:only-child th {\n",
       "        text-align: right;\n",
       "    }\n",
       "\n",
       "    .dataframe thead th {\n",
       "        text-align: left;\n",
       "    }\n",
       "\n",
       "    .dataframe tbody tr th {\n",
       "        vertical-align: top;\n",
       "    }\n",
       "</style>\n",
       "<table border=\"1\" class=\"dataframe\">\n",
       "  <thead>\n",
       "    <tr style=\"text-align: right;\">\n",
       "      <th></th>\n",
       "      <th>manifestacao_clean</th>\n",
       "      <th>TEMA</th>\n",
       "      <th>SUBTEMA</th>\n",
       "    </tr>\n",
       "  </thead>\n",
       "  <tbody>\n",
       "    <tr>\n",
       "      <th>0</th>\n",
       "      <td>Olá em 26/06 comprei o localizador 8RK87X para...</td>\n",
       "      <td>Alteração pela empresa aérea</td>\n",
       "      <td>Alternativas (reacomodação, reembolso integral...</td>\n",
       "    </tr>\n",
       "    <tr>\n",
       "      <th>1</th>\n",
       "      <td>Prezados, Abri o processo junto a LATAM pra te...</td>\n",
       "      <td>Transporte de bagagem</td>\n",
       "      <td>Extravio</td>\n",
       "    </tr>\n",
       "    <tr>\n",
       "      <th>2</th>\n",
       "      <td>No dia 17/12 comprei uma passagem, Vitória x C...</td>\n",
       "      <td>Alteração pelo passageiro</td>\n",
       "      <td>Remarcação e resilição</td>\n",
       "    </tr>\n",
       "    <tr>\n",
       "      <th>3</th>\n",
       "      <td>Estou tendo um problema! Recentemente fiz a co...</td>\n",
       "      <td>Programas de Fidelidade</td>\n",
       "      <td>Programas de Fidelidade</td>\n",
       "    </tr>\n",
       "  </tbody>\n",
       "</table>\n",
       "</div>"
      ],
      "text/plain": [
       "                                  manifestacao_clean  \\\n",
       "0  Olá em 26/06 comprei o localizador 8RK87X para...   \n",
       "1  Prezados, Abri o processo junto a LATAM pra te...   \n",
       "2  No dia 17/12 comprei uma passagem, Vitória x C...   \n",
       "3  Estou tendo um problema! Recentemente fiz a co...   \n",
       "\n",
       "                           TEMA  \\\n",
       "0  Alteração pela empresa aérea   \n",
       "1         Transporte de bagagem   \n",
       "2     Alteração pelo passageiro   \n",
       "3       Programas de Fidelidade   \n",
       "\n",
       "                                             SUBTEMA  \n",
       "0  Alternativas (reacomodação, reembolso integral...  \n",
       "1                                           Extravio  \n",
       "2                             Remarcação e resilição  \n",
       "3                            Programas de Fidelidade  "
      ]
     },
     "execution_count": 2,
     "metadata": {},
     "output_type": "execute_result"
    }
   ],
   "source": [
    "train.head(4) #primeiros 4 registros"
   ]
  },
  {
   "cell_type": "code",
   "execution_count": 3,
   "metadata": {
    "_uuid": "fbb30152f6522ae9ee5538fee305fb92ff58755c"
   },
   "outputs": [
    {
     "data": {
      "text/plain": [
       "(39071, 3)"
      ]
     },
     "execution_count": 3,
     "metadata": {},
     "output_type": "execute_result"
    }
   ],
   "source": [
    "train.shape #numero de registros do dataset"
   ]
  },
  {
   "cell_type": "code",
   "execution_count": 4,
   "metadata": {
    "_uuid": "8d7f6ebb7597bec2b36d4fea20859c7602570f2a"
   },
   "outputs": [
    {
     "data": {
      "text/plain": [
       "array(['manifestacao_clean', 'TEMA', 'SUBTEMA'], dtype=object)"
      ]
     },
     "execution_count": 4,
     "metadata": {},
     "output_type": "execute_result"
    }
   ],
   "source": [
    "train.columns.values #colunas do dataset"
   ]
  },
  {
   "cell_type": "code",
   "execution_count": 5,
   "metadata": {
    "_uuid": "0a1244bcbe4338b55e3854415dd2a832371fc229"
   },
   "outputs": [
    {
     "data": {
      "text/plain": [
       "'Olá em 26/06 comprei o localizador 8RK87X para 04 passageiros Sinop x Brasilia, indo 25/02 e retornando em 28/02. Comprei bem antecipado para poder me programar na viagem (principalmente no retorno); no entanto houve uma alteração no horário o que descontrolou todos meus planos (principalmente no retorno). Entrei em contato com a central via fone e facebook; só me foi ofertada uma opção de voo, no entanto este não me atende; solicitado a alteração do destino da viagem sem custo. Pedido à Empresa Alteração no destino da viagem sem custo.'"
      ]
     },
     "execution_count": 5,
     "metadata": {},
     "output_type": "execute_result"
    }
   ],
   "source": [
    "train[\"manifestacao_clean\"][0] #amostra do dataset"
   ]
  },
  {
   "cell_type": "code",
   "execution_count": 6,
   "metadata": {},
   "outputs": [
    {
     "data": {
      "text/plain": [
       "array(['Alteração pela empresa aérea', 'Transporte de bagagem',\n",
       "       'Alteração pelo passageiro', 'Programas de Fidelidade',\n",
       "       'Oferta e compra',\n",
       "       'Reclamações contra valores e regras do contrato',\n",
       "       'Execução do voo', 'Check-in e embarque', 'Reembolso', 'Outros',\n",
       "       'Assistência ao PNAE'], dtype=object)"
      ]
     },
     "execution_count": 6,
     "metadata": {},
     "output_type": "execute_result"
    }
   ],
   "source": [
    "train['TEMA'].unique()#tipos diferentes de labels "
   ]
  },
  {
   "cell_type": "code",
   "execution_count": 7,
   "metadata": {},
   "outputs": [
    {
     "data": {
      "text/plain": [
       "array(['Alternativas (reacomodação, reembolso integral ou outra modalidade de transporte)',\n",
       "       'Extravio', 'Remarcação e resilição', 'Programas de Fidelidade',\n",
       "       'Avaria', 'Outros', 'Multas previstas no contrato',\n",
       "       'Cancelamento/Assistência material (comunicação, alimentação, hospedagem e traslado)',\n",
       "       'Violação',\n",
       "       'Interrupção do serviço/Assistência material (comunicação, alimentação, hospedagem e traslado)',\n",
       "       'Informação/Regras e valores de itens opcionais',\n",
       "       'Informação/Regras e valores do transporte de passageiros',\n",
       "       'Aviso', 'Correção de nome (inclusive negativa de embarque)',\n",
       "       'Outros/Bagagem especial, animais, carga e itens proibidos',\n",
       "       'Prazo', 'Atraso/Informação',\n",
       "       'Assistência material (comunicação, alimentação, hospedagem e traslado)',\n",
       "       'Ajudas técnicas e equipamentos médicos', 'Créditos',\n",
       "       'Assento conforto e outros itens opcionais',\n",
       "       'Outros/Bagagem de mão', 'Arrependimento (art. 49, CDC)',\n",
       "       'Preços praticados',\n",
       "       'Atraso/Alternativas (reacomodação, reembolso integral ou outra modalidade de transporte)',\n",
       "       'Documentação (inclusive negativa de embarque)',\n",
       "       'Comprovante de passagem aérea',\n",
       "       'Atraso/Assistência material (comunicação, alimentação, hospedagem e traslado)',\n",
       "       'Interrupção do serviço/Outros', 'Desistência 24/7',\n",
       "       'Informação/Regras e valores do transporte de bagagem especial, animais, carga e itens proibidos',\n",
       "       'Atraso/Outros', 'Cancelamento/Outros', 'Cancelamento/Informação',\n",
       "       'Outros/Bagagem despachada',\n",
       "       'Cancelamento/Alternativas (reacomodação, reembolso integral ou outra modalidade de transporte)',\n",
       "       'Cancelamento automático do retorno (no-show na ida)',\n",
       "       'Preterição/Assistência material (comunicação, alimentação, hospedagem e traslado)',\n",
       "       'Informação/Regras e valores do transporte de bagagem',\n",
       "       'Procedimentos prévios à viagem',\n",
       "       'Perda de conexão/Assistência material (comunicação, alimentação, hospedagem e traslado)',\n",
       "       'Preterição/Alternativas (reacomodação, reembolso integral ou outra modalidade de transporte)',\n",
       "       'Perda de conexão/Outros',\n",
       "       'Designação de assentos e mecanismos de contenção',\n",
       "       'Preterição/Compensação',\n",
       "       'Perda de conexão/Alternativas (reacomodação, reembolso integral ou outra modalidade de transporte)',\n",
       "       'Passageiro indisciplinado', 'Preterição/Outros',\n",
       "       'Interrupção do serviço/Alternativas (reacomodação, reembolso integral ou outra modalidade de transporte)',\n",
       "       'Acompanhante', 'Perda de conexão/Informação',\n",
       "       'Interrupção do serviço/Informação',\n",
       "       'Declaração especial de valor de bagagem',\n",
       "       'Multas indevidas e devolução da tarifa aeroportuária',\n",
       "       'Cancelamento da passagem pela empresa aérea (inclusive por suspeita de fraude)',\n",
       "       'Atraso do passageiro', 'Assistência durante a viagem',\n",
       "       'Dificuldade em realizar o check-in (problemas com site, app, toten, filas etc.)',\n",
       "       'Cão-guia'], dtype=object)"
      ]
     },
     "execution_count": 7,
     "metadata": {},
     "output_type": "execute_result"
    }
   ],
   "source": [
    "train['SUBTEMA'].unique()#tipos diferentes de labels "
   ]
  },
  {
   "cell_type": "markdown",
   "metadata": {
    "_uuid": "197130abccbf9737acbd537817beb78ed7e5cce9"
   },
   "source": [
    "Conseiderando como limpar o texto, temos que pensar sobre os problemas que surgirão conforme a estrutura dos dados presente. Uma ação que faz sentido é remover a pontuação (um spoiler é que não precisamos dessa estrutura semântica, ortográfica de texto quando aplicamos Bag of Words), pois a posição da palavra na frase será irrelevânte ao modelo que iremos aplicar. No tutorial, pela simplicidade, nós removemos todas a pontuações, mas esse é um ponto que pode ser melhorado.\n",
    "\n",
    "Também removeremos números, mas se tiver alguma funcionalidade no futuro pode fazer sentido usa-los, então vamos apenas repor por um valor nulo.\n",
    "\n",
    "Para remover pontuação e números, vamos usar **unidecode** que aplica codifação unicode nas strings e biblioteca **re** conehcida para manipular expressões regulares. "
   ]
  },
  {
   "cell_type": "code",
   "execution_count": 8,
   "metadata": {},
   "outputs": [
    {
     "name": "stdout",
     "output_type": "stream",
     "text": [
      "cabecao da malhacao\n"
     ]
    }
   ],
   "source": [
    "from unidecode import unidecode\n",
    "str1 = 'cabeção da malhação' # teste do usando\n",
    "print(unidecode(str1))"
   ]
  },
  {
   "cell_type": "code",
   "execution_count": 9,
   "metadata": {},
   "outputs": [
    {
     "name": "stdout",
     "output_type": "stream",
     "text": [
      "Ola em 26/06 comprei o localizador 8RK87X para 04 passageiros Sinop x Brasilia, indo 25/02 e retornando em 28/02. Comprei bem antecipado para poder me programar na viagem (principalmente no retorno); no entanto houve uma alteracao no horario o que descontrolou todos meus planos (principalmente no retorno). Entrei em contato com a central via fone e facebook; so me foi ofertada uma opcao de voo, no entanto este nao me atende; solicitado a alteracao do destino da viagem sem custo. Pedido a Empresa Alteracao no destino da viagem sem custo.\n"
     ]
    }
   ],
   "source": [
    "example = train[\"manifestacao_clean\"][0]\n",
    "print(unidecode(example)) #teste com amsotra do dataset"
   ]
  },
  {
   "cell_type": "code",
   "execution_count": 10,
   "metadata": {
    "_uuid": "a4810792a0c0dc2d7c226d496bc76096e087def9"
   },
   "outputs": [
    {
     "name": "stdout",
     "output_type": "stream",
     "text": [
      "Ola em       comprei o localizador  RK  X para    passageiros Sinop x Brasilia  indo       e retornando em        Comprei bem antecipado para poder me programar na viagem  principalmente no retorno   no entanto houve uma alteracao no horario o que descontrolou todos meus planos  principalmente no retorno   Entrei em contato com a central via fone e facebook  so me foi ofertada uma opcao de voo  no entanto este nao me atende  solicitado a alteracao do destino da viagem sem custo  Pedido a Empresa Alteracao no destino da viagem sem custo \n"
     ]
    }
   ],
   "source": [
    "import re\n",
    "# aplicamos ambas bibliotecas propostas, unidecode aplica o unicode no texto\n",
    "# re retira as pontuações.\n",
    "letters_only=re.sub(\"[^a-zA-Z]\",\" \",unidecode(example)) \n",
    "print(letters_only)"
   ]
  },
  {
   "cell_type": "markdown",
   "metadata": {
    "_uuid": "2963d30c4f21d0f070778e6743913147679a83b7"
   },
   "source": [
    "Aplicamos nas requisições em que todas as letras fiquem na forma minuscúla, para ter uniciade nas escrita das palavras. Também vamos realizar a técnica de **tokenização**, onde o texto é transformado um array, cada espaço do array conresponde à existencia dessa uma palavra em vocabulario que abrange todos os textos. A técnica **tokenização** de é grande chave para realizar Bag of Words e por fim aplicar NLP em modelos de machine learning. "
   ]
  },
  {
   "cell_type": "code",
   "execution_count": 11,
   "metadata": {
    "_uuid": "8efa97cbff46e03183f3c4b26adf3c26bb487206",
    "collapsed": true
   },
   "outputs": [],
   "source": [
    "lower_case=letters_only.lower() #aplica as letras minusculas para todas as letras nos textos\n",
    "words=lower_case.split()"
   ]
  },
  {
   "cell_type": "markdown",
   "metadata": {
    "_uuid": "fbcac55b1f9eb2af969fd6f6b0f0cb0f10a99352"
   },
   "source": [
    "Com a **tokenização** vamos lidar com a frequencia da ocorrencia das palavras em cada avaliação do dataset, não com o significado das palavras. \n",
    "\n",
    "Temos palavras que são muito comuns em textos, mas não represetam um grandes significados na semântica, que geralmente são artigos, pronomes e preposições, então chamamos essas palavras de **\"stop words\"**, que no inglês temos palavras de exemplo:  **\"a\"**, **\"and\"**,** \"is\"**, e **\"the\"**. Por coviniência temos pacotes no Python que possuem uma lista de palavras consideradas como **\"stop words\"** e também realizam esse filtro, para realizar esse processamento. temos o pacote  **Python Natural Language Toolkit (NLTK)** que também possue muito outras ferramentas para lidar com problemas de processamento de linguagem natual.\n"
   ]
  },
  {
   "cell_type": "code",
   "execution_count": 12,
   "metadata": {
    "collapsed": true
   },
   "outputs": [],
   "source": [
    "#import nltk\n",
    "#nltk.download()"
   ]
  },
  {
   "cell_type": "code",
   "execution_count": 15,
   "metadata": {
    "_uuid": "639fc2fbfc820447c11059536e6cf88f89c46693"
   },
   "outputs": [
    {
     "name": "stdout",
     "output_type": "stream",
     "text": [
      "['de', 'a', 'o', 'que', 'e', 'do', 'da', 'em', 'um', 'para', 'com', 'não', 'uma', 'os', 'no', 'se', 'na', 'por', 'mais', 'as', 'dos', 'como', 'mas', 'ao', 'ele', 'das', 'à', 'seu', 'sua', 'ou', 'quando', 'muito', 'nos', 'já', 'eu', 'também', 'só', 'pelo', 'pela', 'até', 'isso', 'ela', 'entre', 'depois', 'sem', 'mesmo', 'aos', 'seus', 'quem', 'nas', 'me', 'esse', 'eles', 'você', 'essa', 'num', 'nem', 'suas', 'meu', 'às', 'minha', 'numa', 'pelos', 'elas', 'qual', 'nós', 'lhe', 'deles', 'essas', 'esses', 'pelas', 'este', 'dele', 'tu', 'te', 'vocês', 'vos', 'lhes', 'meus', 'minhas', 'teu', 'tua', 'teus', 'tuas', 'nosso', 'nossa', 'nossos', 'nossas', 'dela', 'delas', 'esta', 'estes', 'estas', 'aquele', 'aquela', 'aqueles', 'aquelas', 'isto', 'aquilo', 'estou', 'está', 'estamos', 'estão', 'estive', 'esteve', 'estivemos', 'estiveram', 'estava', 'estávamos', 'estavam', 'estivera', 'estivéramos', 'esteja', 'estejamos', 'estejam', 'estivesse', 'estivéssemos', 'estivessem', 'estiver', 'estivermos', 'estiverem', 'hei', 'há', 'havemos', 'hão', 'houve', 'houvemos', 'houveram', 'houvera', 'houvéramos', 'haja', 'hajamos', 'hajam', 'houvesse', 'houvéssemos', 'houvessem', 'houver', 'houvermos', 'houverem', 'houverei', 'houverá', 'houveremos', 'houverão', 'houveria', 'houveríamos', 'houveriam', 'sou', 'somos', 'são', 'era', 'éramos', 'eram', 'fui', 'foi', 'fomos', 'foram', 'fora', 'fôramos', 'seja', 'sejamos', 'sejam', 'fosse', 'fôssemos', 'fossem', 'for', 'formos', 'forem', 'serei', 'será', 'seremos', 'serão', 'seria', 'seríamos', 'seriam', 'tenho', 'tem', 'temos', 'tém', 'tinha', 'tínhamos', 'tinham', 'tive', 'teve', 'tivemos', 'tiveram', 'tivera', 'tivéramos', 'tenha', 'tenhamos', 'tenham', 'tivesse', 'tivéssemos', 'tivessem', 'tiver', 'tivermos', 'tiverem', 'terei', 'terá', 'teremos', 'terão', 'teria', 'teríamos', 'teriam']\n"
     ]
    }
   ],
   "source": [
    "from nltk.corpus import stopwords\n",
    "#lista de stop words da lingua portuguêsa\n",
    "print (stopwords.words(\"portuguese\"))"
   ]
  },
  {
   "cell_type": "code",
   "execution_count": 16,
   "metadata": {
    "collapsed": true
   },
   "outputs": [],
   "source": [
    "stop = stopwords.words(\"portuguese\") #criar um arry com as stop words do português"
   ]
  },
  {
   "cell_type": "code",
   "execution_count": 17,
   "metadata": {},
   "outputs": [
    {
     "name": "stdout",
     "output_type": "stream",
     "text": [
      "['de', 'a', 'o', 'que', 'e', 'do', 'da', 'em', 'um', 'para', 'com', 'nao', 'uma', 'os', 'no', 'se', 'na', 'por', 'mais', 'as', 'dos', 'como', 'mas', 'ao', 'ele', 'das', 'a', 'seu', 'sua', 'ou', 'quando', 'muito', 'nos', 'ja', 'eu', 'tambem', 'so', 'pelo', 'pela', 'ate', 'isso', 'ela', 'entre', 'depois', 'sem', 'mesmo', 'aos', 'seus', 'quem', 'nas', 'me', 'esse', 'eles', 'voce', 'essa', 'num', 'nem', 'suas', 'meu', 'as', 'minha', 'numa', 'pelos', 'elas', 'qual', 'nos', 'lhe', 'deles', 'essas', 'esses', 'pelas', 'este', 'dele', 'tu', 'te', 'voces', 'vos', 'lhes', 'meus', 'minhas', 'teu', 'tua', 'teus', 'tuas', 'nosso', 'nossa', 'nossos', 'nossas', 'dela', 'delas', 'esta', 'estes', 'estas', 'aquele', 'aquela', 'aqueles', 'aquelas', 'isto', 'aquilo', 'estou', 'esta', 'estamos', 'estao', 'estive', 'esteve', 'estivemos', 'estiveram', 'estava', 'estavamos', 'estavam', 'estivera', 'estiveramos', 'esteja', 'estejamos', 'estejam', 'estivesse', 'estivessemos', 'estivessem', 'estiver', 'estivermos', 'estiverem', 'hei', 'ha', 'havemos', 'hao', 'houve', 'houvemos', 'houveram', 'houvera', 'houveramos', 'haja', 'hajamos', 'hajam', 'houvesse', 'houvessemos', 'houvessem', 'houver', 'houvermos', 'houverem', 'houverei', 'houvera', 'houveremos', 'houverao', 'houveria', 'houveriamos', 'houveriam', 'sou', 'somos', 'sao', 'era', 'eramos', 'eram', 'fui', 'foi', 'fomos', 'foram', 'fora', 'foramos', 'seja', 'sejamos', 'sejam', 'fosse', 'fossemos', 'fossem', 'for', 'formos', 'forem', 'serei', 'sera', 'seremos', 'serao', 'seria', 'seriamos', 'seriam', 'tenho', 'tem', 'temos', 'tem', 'tinha', 'tinhamos', 'tinham', 'tive', 'teve', 'tivemos', 'tiveram', 'tivera', 'tiveramos', 'tenha', 'tenhamos', 'tenham', 'tivesse', 'tivessemos', 'tivessem', 'tiver', 'tivermos', 'tiverem', 'terei', 'tera', 'teremos', 'terao', 'teria', 'teriamos', 'teriam']\n"
     ]
    }
   ],
   "source": [
    "# não é possivel aplicar o unicode em uma lista, então vamos percorrer o array aplciando emc ada registro\n",
    "lista_stop = [unidecode(x) for x in stop]  \n",
    "print (lista_stop)"
   ]
  },
  {
   "cell_type": "code",
   "execution_count": 18,
   "metadata": {},
   "outputs": [
    {
     "name": "stdout",
     "output_type": "stream",
     "text": [
      "['ola', 'em', 'comprei', 'o', 'localizador', 'rk', 'x', 'para', 'passageiros', 'sinop', 'x', 'brasilia', 'indo', 'e', 'retornando', 'em', 'comprei', 'bem', 'antecipado', 'para', 'poder', 'me', 'programar', 'na', 'viagem', 'principalmente', 'no', 'retorno', 'no', 'entanto', 'houve', 'uma', 'alteracao', 'no', 'horario', 'o', 'que', 'descontrolou', 'todos', 'meus', 'planos', 'principalmente', 'no', 'retorno', 'entrei', 'em', 'contato', 'com', 'a', 'central', 'via', 'fone', 'e', 'facebook', 'so', 'me', 'foi', 'ofertada', 'uma', 'opcao', 'de', 'voo', 'no', 'entanto', 'este', 'nao', 'me', 'atende', 'solicitado', 'a', 'alteracao', 'do', 'destino', 'da', 'viagem', 'sem', 'custo', 'pedido', 'a', 'empresa', 'alteracao', 'no', 'destino', 'da', 'viagem', 'sem', 'custo']\n"
     ]
    }
   ],
   "source": [
    "print(words)"
   ]
  },
  {
   "cell_type": "code",
   "execution_count": 19,
   "metadata": {
    "_uuid": "57d0c877aaa308d9ef5a85f7a805e80f4b0913f2"
   },
   "outputs": [
    {
     "name": "stdout",
     "output_type": "stream",
     "text": [
      "['ola', 'comprei', 'localizador', 'rk', 'x', 'passageiros', 'sinop', 'x', 'brasilia', 'indo', 'retornando', 'comprei', 'bem', 'antecipado', 'poder', 'programar', 'viagem', 'principalmente', 'retorno', 'entanto', 'alteracao', 'horario', 'descontrolou', 'todos', 'planos', 'principalmente', 'retorno', 'entrei', 'contato', 'central', 'via', 'fone', 'facebook', 'ofertada', 'opcao', 'voo', 'entanto', 'atende', 'solicitado', 'alteracao', 'destino', 'viagem', 'custo', 'pedido', 'empresa', 'alteracao', 'destino', 'viagem', 'custo']\n"
     ]
    }
   ],
   "source": [
    "#Filtro das palavras não stop words presentes no texto\n",
    "words=[w for w in words if not w in lista_stop] \n",
    "print(words)"
   ]
  },
  {
   "cell_type": "code",
   "execution_count": 20,
   "metadata": {
    "_uuid": "5e28f55f3f0d4da25706c0e1ea3a9b0939a6a07f",
    "collapsed": true
   },
   "outputs": [],
   "source": [
    "def review_to_words(raw_review):\n",
    "    letters_only=re.sub(\"[^a-zA-Z]\",\" \",unidecode(raw_review))\n",
    "    words=letters_only.lower().split()\n",
    "    meaningful_words=[w for w in words if not w in lista_stop]\n",
    "    return(' '.join(meaningful_words))"
   ]
  },
  {
   "cell_type": "markdown",
   "metadata": {
    "_uuid": "b8689895e2608a5da9292fc0a7ec6cde10e57890"
   },
   "source": [
    "Aplicamos uma técnica que não é escopo desse caso de estudo, que é o uso de outros tipos de estrutura de dados para processamento de dados, neste caso estamos transformando o array **python** em arrays do tipo **numpy**, com foco em velocidade, o loop no python não é necessariamente efeiciente, portanto qualquer forma que aumente a velocidade de treino ou a formatação dos dados é bom. \n",
    "\n",
    "Então criamos uma funação **review_to_words** que irá aplicar todas essas transformações citadas anteriormente no dataset de uma vez."
   ]
  },
  {
   "cell_type": "code",
   "execution_count": 21,
   "metadata": {
    "_uuid": "453b6e091f681abe55aca09198fde2cff6259333"
   },
   "outputs": [
    {
     "name": "stdout",
     "output_type": "stream",
     "text": [
      "ola comprei localizador rk x passageiros sinop x brasilia indo retornando comprei bem antecipado poder programar viagem principalmente retorno entanto alteracao horario descontrolou todos planos principalmente retorno entrei contato central via fone facebook ofertada opcao voo entanto atende solicitado alteracao destino viagem custo pedido empresa alteracao destino viagem custo\n"
     ]
    }
   ],
   "source": [
    "#testando a função\n",
    "clean_review=review_to_words(train['manifestacao_clean'][0])\n",
    "print(clean_review)"
   ]
  },
  {
   "cell_type": "code",
   "execution_count": 22,
   "metadata": {},
   "outputs": [
    {
     "name": "stdout",
     "output_type": "stream",
     "text": [
      "39071\n"
     ]
    }
   ],
   "source": [
    "# pegar o range para realizar as tranformações no dataset\n",
    "num_reviews=train['manifestacao_clean'].size\n",
    "print (num_reviews)"
   ]
  },
  {
   "cell_type": "code",
   "execution_count": 24,
   "metadata": {
    "_uuid": "dd5937aa3685cdf93195962ab05e796ab465aa61"
   },
   "outputs": [],
   "source": [
    "# loop para aplicar as transformações em cada registro da coluna manifestacao_clean do dataset\n",
    "clean_train_review=[]\n",
    "for i in range(0,num_reviews):\n",
    "    clean_train_review.append(review_to_words(train['manifestacao_clean'][i]))"
   ]
  },
  {
   "cell_type": "markdown",
   "metadata": {
    "_uuid": "ebf226cef41e08aa2bc3ce68240d2abc0af32938"
   },
   "source": [
    "Criando Features com a Técnica Bag of Words (scikit-learn)\n",
    "Now that we have our training reviews tidied up, how do we convert them to some kind of numeric representation for machine learning? One common approach \n",
    "Com as avaliações formatadas, como converter elas em uma represemtação numérica para machine learning? Uma abordagem comum é a técnica Bag of Words, consiste no modelo usar o vocubulario de todos o documentos analisados (neste caso avaliações de filmes), literalmente as informações viram um \"Saco de palavras\", cada documento é levado em conta quais palavras do voculabulario foram utilizadas na formação deste mesmo documento. Segue exemplo em duas sentenças:\n",
    "\n",
    "**Frase 1: \"The cat sat on the hat\"**\n",
    "\n",
    "**Frase 2: \"The dog ate the cat and the hat\"**\n",
    "\n",
    "Para as duas sentenças, o vocabulo segue:\n",
    "\n",
    "**{ the, cat, sat, on, hat, dog, ate, and }**\n",
    "\n",
    "Para conseguir o \"saco de palavras\", contamos o numero de vezes que a palavra ocorre em cada Frase. Na sentença 1, \"the\" aparece duas vezes, também as palavras \"cat\", \"sat\", \"on\", e \"hat\" cada aparece uma vez, então o novo registro da senteça 1 numéricamente fica:\n",
    "\n",
    "**{ the, cat, sat, on, hat, dog, ate, and }**\n",
    "\n",
    "**Frase 1: { 2, 1, 1, 1, 1, 0, 0, 0 }**\n",
    "\n",
    "**Frase 2: { 3, 1, 0, 0, 1, 1, 1, 1}**\n",
    "\n",
    "\n",
    "Na base de dados, temos um grande numero de requisições, que nós dá um grande vocábulo. Para não hiperdimencionalizar o vetor de Features e causar riscos de performances no modelo, vamos escolher um espaço amostal máximo de vocábulos.\n",
    "\n",
    "Abaixo, utilizaremos as 5000 palavras mais frequentes (lembrando que tiramos as stops words)."
   ]
  },
  {
   "cell_type": "code",
   "execution_count": 22,
   "metadata": {
    "_uuid": "fa93300f7e97a6b96578564dfbf5a2ce92090336",
    "collapsed": true
   },
   "outputs": [],
   "source": [
    "from sklearn.feature_extraction.text import CountVectorizer\n",
    "# configurar os parametros do WordtoVec/Tokeninzação e criar o objeto\n",
    "vectorizer=CountVectorizer(analyzer='word',tokenizer=None,preprocessor = None, stop_words = None,max_features = 7000)\n",
    "# aplicar WordtoVec/Tokeninzação\n",
    "train_data_features=vectorizer.fit_transform(clean_train_review)\n",
    "# aplicar a estrutura de dados numpy array\n",
    "train_data_features=train_data_features.toarray()"
   ]
  },
  {
   "cell_type": "code",
   "execution_count": 23,
   "metadata": {
    "_uuid": "87556430502777efcf607e318463cf7f1f6d4365"
   },
   "outputs": [
    {
     "data": {
      "text/plain": [
       "(39071, 7000)"
      ]
     },
     "execution_count": 23,
     "metadata": {},
     "output_type": "execute_result"
    }
   ],
   "source": [
    "train_data_features.shape"
   ]
  },
  {
   "cell_type": "code",
   "execution_count": 24,
   "metadata": {
    "_uuid": "a341102da9ec322328dea58e908eb9a8bc71f32f"
   },
   "outputs": [
    {
     "data": {
      "text/plain": [
       "array([0, 0, 0, ..., 0, 0, 0], dtype=int64)"
      ]
     },
     "execution_count": 24,
     "metadata": {},
     "output_type": "execute_result"
    }
   ],
   "source": [
    "train_data_features[1]"
   ]
  },
  {
   "cell_type": "code",
   "execution_count": 25,
   "metadata": {
    "_uuid": "c1798aa40282741f07a78c5c870da99323de8435"
   },
   "outputs": [
    {
     "name": "stdout",
     "output_type": "stream",
     "text": [
      "['aa', 'aba', 'abaixo', 'abalada', 'abalo', 'abastecimento', 'abatimento', 'aberta', 'abertas', 'aberto', 'abertos', 'abertura', 'aborrecimento', 'aborrecimentos', 'abr', 'abre', 'abri', 'abria', 'abril', 'abrimos', 'abrindo', 'abrir', 'abriram', 'abriria', 'abrisse', 'abriu', 'abro', 'absoluta', 'absolutamente', 'absoluto', 'absurda', 'absurdamente', 'absurdas', 'absurdo', 'absurdos', 'abusiva', 'abusivamente', 'abusivas', 'abusividade', 'abusivo', 'abusivos', 'abuso', 'abusos', 'ac', 'acaba', 'acabado', 'acabamos', 'acabando', 'acabar', 'acabaram', 'acabei', 'acabo', 'acabou', 'acao', 'acarreta', 'acarretando', 'acarretaria', 'acarretou', 'acaso', 'aceita', 'aceitacao', 'aceitado', 'aceitam', 'aceitamos', 'aceitando', 'aceitar', 'aceitaram', 'aceitaria', 'aceitasse', 'aceitava', 'aceitavel', 'aceite', 'aceitei', 'aceito', 'aceitos', 'aceitou', 'acento', 'acentos', 'acerca', 'acertado', 'acerto', 'acessando', 'acessar', 'acessei', 'acessivel', 'acesso', 'acessorios', 'acha', 'achados', 'acham', 'achamos', 'achando', 'achar', 'acharam', 'achava', 'achei', 'acho', 'achou', 'acidente', 'acima', 'acionar', 'acionarei', 'acionei', 'acoes', 'acomodacao', 'acomodacoes', 'acomodada', 'acomodado', 'acomodados', 'acomodar', 'acomode', 'acompanha', 'acompanhada', 'acompanhado', 'acompanhamento', 'acompanhando', 'acompanhante', 'acompanhantes', 'acompanhar', 'acompanhou', 'aconteca', 'acontece', 'acontecem', 'acontecendo', 'acontecer', 'acontecera', 'aconteceram', 'aconteceria', 'aconteceu', 'acontecido', 'acontecimento', 'acontecimentos', 'acordada', 'acordado', 'acordados', 'acordar', 'acordei', 'acordo', 'acre', 'acreditamos', 'acreditando', 'acreditar', 'acreditava', 'acreditei', 'acredito', 'acrescentar', 'acrescento', 'acrescido', 'acrescidos', 'acrescimo', 'acumulados', 'acumular', 'acumulo', 'acusou', 'ad', 'ademais', 'adentrar', 'adequacao', 'adequada', 'adequadamente', 'adequadas', 'adequado', 'adequados', 'adequar', 'aderi', 'adesao', 'adesivo', 'adiada', 'adiado', 'adiamento', 'adianta', 'adiantado', 'adiantamento', 'adiantar', 'adiante', 'adiantou', 'adiar', 'adicionado', 'adicionais', 'adicional', 'adicionalmente', 'adicionar', 'administracao', 'administradora', 'administrativa', 'administrativamente', 'administrativas', 'administrativo', 'administrativos', 'admite', 'admitir', 'adolescente', 'adotada', 'adotadas', 'adotado', 'adotar', 'adquiri', 'adquirida', 'adquiridas', 'adquirido', 'adquiridos', 'adquirimos', 'adquirindo', 'adquirir', 'adquiriram', 'adquiriu', 'adriana', 'adriano', 'adulto', 'adultos', 'advogada', 'advogado', 'advogados', 'aep', 'aera', 'aerea', 'aereas', 'aereo', 'aereos', 'aeria', 'aerolineas', 'aeromexico', 'aeromoca', 'aeromocas', 'aeronautica', 'aeronave', 'aeronaves', 'aeroparque', 'aeroporto', 'aeroportos', 'aeroportuaria', 'aeroportuarias', 'aerporto', 'af', 'afetados', 'afetou', 'afim', 'afinal', 'afirma', 'afirmacao', 'afirmam', 'afirmando', 'afirmar', 'afirmaram', 'afirmei', 'afirmo', 'afirmou', 'afonso', 'africa', 'afronta', 'ag', 'age', 'agencia', 'agencias', 'agenda', 'agendada', 'agendadas', 'agendado', 'agendados', 'agendamento', 'agendar', 'agente', 'agentes', 'agil', 'agilidade', 'agilizar', 'agindo', 'agir', 'agiu', 'agnome', 'ago', 'agora', 'agosto', 'agradavel', 'agradecemos', 'agradeco', 'agravante', 'agua', 'aguarda', 'aguardado', 'aguardamos', 'aguardando', 'aguardar', 'aguardasse', 'aguardava', 'aguardavam', 'aguarde', 'aguardei', 'aguardo', 'aguento', 'ah', 'ai', 'ainda', 'air', 'airbnb', 'airbus', 'aires', 'airfrance', 'airlines', 'airport', 'airways', 'aju', 'ajuda', 'ajudar', 'ajudasse', 'ajude', 'ajudem', 'ajudou', 'ajuizamento', 'ajuizar', 'ajustado', 'ajustar', 'ajuste', 'ajustes', 'al', 'alberto', 'alca', 'alega', 'alegacao', 'alegacoes', 'alegado', 'alegam', 'alegando', 'alegar', 'alegaram', 'alegou', 'alegre', 'aleguei', 'alem', 'alemanha', 'alerta', 'alertar', 'alessandra', 'alex', 'alexandre', 'alfandega', 'algo', 'alguem', 'algum', 'alguma', 'algumas', 'alguns', 'alheia', 'alheio', 'alheios', 'ali', 'alianca', 'alias', 'alice', 'alimentacao', 'alimentar', 'alimento', 'alimentos', 'aline', 'alitalia', 'all', 'alliance', 'almeida', 'almocar', 'almoco', 'alocacao', 'alocada', 'alocado', 'alocados', 'alocar', 'alocaram', 'alta', 'altamente', 'altas', 'altera', 'alteracao', 'alteracoes', 'alterada', 'alteradas', 'alterado', 'alterados', 'alteram', 'alterando', 'alterar', 'alteraram', 'alterasse', 'altere', 'alterei', 'alterem', 'alternativa', 'alternativamente', 'alternativas', 'alternativo', 'alterou', 'altissima', 'altissimo', 'alto', 'altos', 'altura', 'alugado', 'alugar', 'aluguel', 'alves', 'am', 'amanda', 'amanha', 'amarela', 'amassada', 'ambas', 'ambiente', 'ambos', 'ameaca', 'amenizar', 'america', 'american', 'americana', 'americano', 'americanos', 'amex', 'amiga', 'amigas', 'amigavel', 'amigavelmente', 'amigo', 'amigos', 'amor', 'amparado', 'amparo', 'amplamente', 'amsterda', 'amsterdam', 'ana', 'anac', 'analisada', 'analisado', 'analisando', 'analisar', 'analise', 'analisem', 'analista', 'and', 'andamento', 'andando', 'andar', 'anderson', 'andrade', 'andre', 'andrea', 'andres', 'anexa', 'anexada', 'anexado', 'anexados', 'anexando', 'anexar', 'anexas', 'anexei', 'anexo', 'anexos', 'angeles', 'angelo', 'angustia', 'animais', 'animal', 'aniversario', 'ano', 'anos', 'anotar', 'anotei', 'anotou', 'ansiedade', 'ante', 'antecedencia', 'antecipacao', 'antecipada', 'antecipadamente', 'antecipado', 'antecipando', 'antecipar', 'antecipei', 'antecipou', 'anterior', 'anteriores', 'anteriormente', 'antes', 'antiga', 'antigo', 'antonio', 'anual', 'anuncia', 'anunciada', 'anunciado', 'anunciaram', 'anuncio', 'anunciou', 'anvisa', 'aonde', 'ap', 'aparece', 'aparecem', 'aparecendo', 'aparecer', 'apareceram', 'apareceu', 'aparecia', 'apareciam', 'aparecida', 'aparelho', 'aparente', 'aparentemente', 'apartamento', 'apenas', 'apertado', 'apesar', 'aplica', 'aplicacao', 'aplicada', 'aplicadas', 'aplicado', 'aplicando', 'aplicar', 'aplicativo', 'aplicaveis', 'aplicavel', 'apoio', 'apos', 'app', 'apple', 'apresenta', 'apresentacao', 'apresentada', 'apresentadas', 'apresentado', 'apresentados', 'apresentam', 'apresentamos', 'apresentando', 'apresentar', 'apresentaram', 'apresentava', 'apresente', 'apresentei', 'apresento', 'apresentou', 'apropriacao', 'aprovacao', 'aprovada', 'aprovado', 'aproveitando', 'aproveitar', 'aproveitei', 'aproveito', 'aprovou', 'aprox', 'aproxima', 'aproximadamente', 'aproximado', 'aproximando', 'apto', 'apuracao', 'aqui', 'aquisicao', 'ar', 'aracaju', 'aracatuba', 'araujo', 'arbitraria', 'arbitrariamente', 'arcando', 'arcar', 'arcaria', 'arcasse', 'area', 'areas', 'arenas', 'argentina', 'argentinas', 'argumentacao', 'argumentar', 'argumentei', 'argumento', 'argumentos', 'arma', 'arque', 'arquivo', 'arquivos', 'arranhada', 'arranhoes', 'arrependi', 'arrependimento', 'arrogancia', 'arrogante', 'arrumar', 'art', 'arthur', 'artigo', 'artigos', 'arts', 'aruba', 'assegura', 'assegurado', 'assegurar', 'assento', 'assentos', 'assiduo', 'assim', 'assinada', 'assinado', 'assinante', 'assinar', 'assinatura', 'assinei', 'assistencia', 'assistente', 'assistir', 'associada', 'associado', 'assumido', 'assumidos', 'assumindo', 'assumir', 'assumiu', 'assuncao', 'assunto', 'assuntos', 'at', 'atencao', 'atenciosa', 'atenciosamente', 'atenda', 'atendam', 'atende', 'atendem', 'atendende', 'atendendo', 'atendente', 'atendentes', 'atender', 'atenderam', 'atenderia', 'atendesse', 'atendeu', 'atendia', 'atendiam', 'atendida', 'atendidas', 'atendido', 'atendidos', 'atendimento', 'atendimentos', 'atestado', 'atestados', 'atestando', 'atitude', 'atitudes', 'ativa', 'atividade', 'atividades', 'ativo', 'atlanta', 'ato', 'atos', 'atrapalhando', 'atrapalhou', 'atras', 'atrasa', 'atrasada', 'atrasado', 'atrasados', 'atrasando', 'atrasar', 'atrasaram', 'atrasaria', 'atrasei', 'atraso', 'atrasos', 'atrasou', 'atraves', 'att', 'atuacao', 'atuais', 'atual', 'atualizacao', 'atualizada', 'atualizado', 'atualizados', 'atualizar', 'atualmente', 'auckland', 'audiencia', 'audio', 'augusto', 'aula', 'aulas', 'aumenta', 'aumentado', 'aumentando', 'aumentar', 'aumentaram', 'aumento', 'aumentou', 'ausencia', 'ausentar', 'australia', 'autista', 'auto', 'autoatendimento', 'automatica', 'automaticamente', 'automatico', 'automovel', 'autonomia', 'autor', 'autora', 'autores', 'autoridade', 'autoridades', 'autoriza', 'autorizacao', 'autorizada', 'autorizado', 'autorizando', 'autorizar', 'autorizei', 'autorizou', 'auxiliar', 'auxilio', 'av', 'avaliacao', 'avaliada', 'avaliado', 'avaliar', 'avancada', 'avancar', 'avaria', 'avariada', 'avarias', 'averiguacao', 'averiguar', 'aviacao', 'avianca', 'aviao', 'avioes', 'avios', 'avisa', 'avisada', 'avisado', 'avisados', 'avisando', 'avisar', 'avisaram', 'avisei', 'aviso', 'avisos', 'avisou', 'avo', 'az', 'azevedo', 'azul', 'ba', 'bag', 'bagageiro', 'bagageiros', 'bagagem', 'bagagens', 'bagunca', 'bahia', 'bairro', 'baixa', 'baixo', 'balanca', 'balcao', 'balcoes', 'banca', 'bancaria', 'bancario', 'bancarios', 'banco', 'bancos', 'bandeira', 'bangkok', 'banheiro', 'banheiros', 'banho', 'banner', 'barata', 'baratas', 'barato', 'barbara', 'barbosa', 'barcelona', 'bariloche', 'barra', 'barrado', 'barreiras', 'barros', 'barulho', 'base', 'baseado', 'basica', 'basicas', 'basico', 'basicos', 'basta', 'bastando', 'bastante', 'bastasse', 'bastava', 'bateria', 'batista', 'bauru', 'bb', 'bcn', 'be', 'beatriz', 'bebe', 'beber', 'bebes', 'bebida', 'bebidas', 'bel', 'belem', 'belo', 'bem', 'beneficio', 'beneficios', 'bens', 'berco', 'berlim', 'bezerra', 'bh', 'bhz', 'bianca', 'bicicleta', 'bike', 'bilhete', 'bilhetes', 'black', 'bloqueada', 'bloqueado', 'bloqueados', 'bloqueio', 'bloqueou', 'blue', 'bo', 'boa', 'boarding', 'boas', 'boca', 'bog', 'bogota', 'bogwe', 'boletim', 'boleto', 'bolsa', 'bolsas', 'bolso', 'bom', 'bonificacao', 'bonito', 'bonus', 'booking', 'bordo', 'borges', 'boston', 'botao', 'bps', 'br', 'braco', 'bradesco', 'braga', 'branca', 'branco', 'brasil', 'brasileira', 'brasileiras', 'brasileiro', 'brasileiros', 'brasilia', 'brazil', 'brc', 'breve', 'brevidade', 'briga', 'brigar', 'brincadeira', 'british', 'brito', 'brl', 'bruna', 'bruno', 'bsb', 'buenos', 'buraco', 'burocracia', 'busca', 'buscamos', 'buscando', 'buscar', 'buscarei', 'buscas', 'busco', 'buscou', 'business', 'busquei', 'by', 'ca', 'cabe', 'cabeca', 'cabendo', 'cabera', 'caberia', 'cabia', 'cabine', 'cabiveis', 'cabivel', 'cabo', 'cachorra', 'cachorro', 'cacoal', 'cada', 'cadastrado', 'cadastrados', 'cadastramento', 'cadastrar', 'cadastrei', 'cadastro', 'cade', 'cadeado', 'cadeados', 'cadeira', 'cadeirante', 'cadeiras', 'cadeirinha', 'caes', 'cafe', 'cai', 'caia', 'caido', 'caindo', 'caio', 'cair', 'cairam', 'caiu', 'caixa', 'caixas', 'calama', 'calca', 'calcados', 'calculado', 'calculo', 'caldas', 'calendario', 'call', 'callcenter', 'calma', 'calor', 'cama', 'camara', 'cambio', 'camera', 'cameras', 'camila', 'caminho', 'caminhoneiros', 'camisa', 'camisas', 'camiseta', 'campanha', 'campeonato', 'campina', 'campinas', 'campo', 'campos', 'cana', 'canada', 'canais', 'canal', 'cancela', 'cancelada', 'canceladas', 'cancelado', 'cancelados', 'cancelam', 'cancelamento', 'cancelamentos', 'cancelamos', 'cancelando', 'cancelar', 'cancelaram', 'cancelarem', 'cancelaria', 'cancelasse', 'cancele', 'cancelei', 'cancelem', 'cancelou', 'cancer', 'cancun', 'candidatos', 'cansaco', 'cansada', 'cansado', 'cansados', 'cansativa', 'cansativo', 'cansei', 'canto', 'cao', 'caos', 'capa', 'capacidade', 'capaz', 'capitais', 'capital', 'capitulo', 'caput', 'cara', 'caracteres', 'caracteristicas', 'caracteriza', 'caracterizando', 'caras', 'carater', 'card', 'cardapio', 'cardoso', 'carga', 'cargas', 'cargo', 'carla', 'carlos', 'carnaval', 'carneiro', 'caro', 'carolina', 'caroline', 'carona', 'caros', 'carregador', 'carregando', 'carregar', 'carreira', 'carrinho', 'carro', 'carros', 'carta', 'cartagena', 'cartao', 'carteira', 'cartoes', 'cartorio', 'carvalho', 'casa', 'casaco', 'casada', 'casal', 'casamento', 'casas', 'cascavel', 'case', 'caso', 'casos', 'cassia', 'castro', 'catarina', 'categoria', 'categorias', 'causa', 'causada', 'causadas', 'causado', 'causados', 'causando', 'causar', 'causara', 'causaram', 'causaria', 'causas', 'causou', 'cavalcante', 'caxias', 'cc', 'cdc', 'cdg', 'ce', 'ceara', 'ceder', 'cedo', 'cel', 'celebrado', 'celular', 'celulares', 'cem', 'cenario', 'centavo', 'centavos', 'centenas', 'center', 'cento', 'centrais', 'central', 'centro', 'cep', 'cerca', 'certa', 'certame', 'certamente', 'certeza', 'certidao', 'certificado', 'certificar', 'certinho', 'certo', 'certos', 'cesar', 'cf', 'cgb', 'cgh', 'cgr', 'chama', 'chamada', 'chamadas', 'chamado', 'chamados', 'chamando', 'chamar', 'chamaram', 'chamei', 'chamo', 'chamou', 'chance', 'chao', 'chapeco', 'charles', 'chat', 'chateada', 'chateado', 'chave', 'chaves', 'checar', 'check', 'checkin', 'checking', 'chefe', 'chega', 'chegada', 'chegado', 'chegam', 'chegamos', 'chegando', 'chegar', 'chegara', 'chegaram', 'chegarei', 'chegarem', 'chegaremos', 'chegaria', 'chegariam', 'chegariamos', 'chegarmos', 'chegasse', 'chegassemos', 'chegava', 'chego', 'chegou', 'chegue', 'cheguei', 'cheia', 'cheio', 'cheiro', 'chek', 'chekin', 'chequei', 'chicago', 'chile', 'china', 'chorando', 'chorar', 'chuva', 'chuvas', 'cia', 'cias', 'cid', 'cidadao', 'cidade', 'cidades', 'ciencia', 'ciente', 'cientes', 'cima', 'cinco', 'cinquenta', 'cinto', 'cinza', 'circunstancia', 'circunstancias', 'cirurgia', 'cirurgico', 'cita', 'citada', 'citadas', 'citado', 'citados', 'citar', 'citei', 'city', 'civel', 'civil', 'clara', 'claramente', 'claras', 'clareza', 'claro', 'claros', 'class', 'classe', 'classes', 'claudia', 'claudio', 'clausula', 'clausulas', 'clicar', 'clico', 'cliente', 'clientes', 'clima', 'climaticas', 'climaticos', 'cliquei', 'club', 'clube', 'cm', 'cmx', 'cnf', 'cnh', 'cnpj', 'co', 'cobra', 'cobrada', 'cobradas', 'cobrado', 'cobrados', 'cobram', 'cobranca', 'cobrancas', 'cobrando', 'cobrar', 'cobraram', 'cobrarem', 'cobraria', 'cobrariam', 'cobre', 'cobrem', 'cobrir', 'cobrou', 'cod', 'code', 'codigo', 'codigos', 'coelho', 'coerente', 'coisa', 'coisas', 'colaboracao', 'colaborador', 'colaboradora', 'colaboradores', 'colega', 'colegas', 'colo', 'coloca', 'colocacao', 'colocada', 'colocadas', 'colocado', 'colocados', 'colocam', 'colocamos', 'colocando', 'colocar', 'colocaram', 'colocarem', 'colocaria', 'colocasse', 'colocassem', 'coloco', 'colocou', 'colombia', 'coloque', 'coloquei', 'coloquem', 'coluna', 'coma', 'comandante', 'comando', 'combinado', 'combustiveis', 'combustivel', 'comeca', 'comecado', 'comecamos', 'comecando', 'comecar', 'comecaram', 'comecei', 'comeco', 'comecou', 'comemoracao', 'comemorar', 'comentei', 'comento', 'comer', 'comerciais', 'comercial', 'comercializacao', 'cometi', 'cometido', 'comida', 'comigo', 'comissao', 'comissaria', 'comissarias', 'comissario', 'comissarios', 'comodidade', 'companheira', 'companheiro', 'companhia', 'companhias', 'compania', 'comparecer', 'compareceu', 'compareci', 'comparecimento', 'compartimento', 'compartimentos', 'compativeis', 'compativel', 'compensacao', 'compensar', 'compensatoria', 'competencia', 'competente', 'competentes', 'complementar', 'complemento', 'completa', 'completamente', 'completar', 'completo', 'completou', 'complicacoes', 'complicada', 'complicado', 'comportamento', 'composicao', 'compra', 'comprada', 'compradas', 'comprado', 'comprador', 'comprados', 'compramos', 'comprando', 'comprar', 'compraram', 'compraria', 'compras', 'comprasse', 'compre', 'compreender', 'compreendo', 'compreensao', 'comprei', 'comprimento', 'compro', 'comprobatorios', 'compromete', 'comprometendo', 'comprometer', 'comprometeu', 'comprometido', 'comprometimento', 'compromisso', 'compromissos', 'comprou', 'comprova', 'comprovacao', 'comprovada', 'comprovado', 'comprovam', 'comprovando', 'comprovante', 'comprovantes', 'comprovar', 'comprove', 'computado', 'computador', 'computadores', 'computados', 'comum', 'comunica', 'comunicacao', 'comunicada', 'comunicado', 'comunicados', 'comunicando', 'comunicar', 'comunicaram', 'comunicou', 'comuniquei', 'comuns', 'con', 'conceda', 'conceder', 'concedeu', 'concedida', 'concedido', 'concerto', 'concessao', 'conciliacao', 'conclui', 'concluida', 'concluido', 'concluindo', 'concluir', 'concluiu', 'conclusao', 'concordamos', 'concordancia', 'concordando', 'concordar', 'concordava', 'concordei', 'concordo', 'concordou', 'concorrencia', 'concorrente', 'concorrentes', 'concreta', 'concretas', 'concretizada', 'concretizar', 'concreto', 'concurso', 'concursos', 'condicao', 'condicionado', 'condicoes', 'condiz', 'condizente', 'condor', 'conducao', 'conduta', 'conexao', 'conexoes', 'conferencia', 'conferi', 'conferido', 'conferir', 'confesso', 'confianca', 'confiando', 'confiar', 'confiei', 'configura', 'configuracao', 'configurando', 'confins', 'confio', 'confira', 'confirma', 'confirmacao', 'confirmacoes', 'confirmada', 'confirmadas', 'confirmado', 'confirmados', 'confirmando', 'confirmar', 'confirmaram', 'confirme', 'confirmei', 'confirmou', 'conflito', 'conforme', 'conformidade', 'confort', 'confortavel', 'conforto', 'confusao', 'confuso', 'congenere', 'congonhas', 'congresso', 'conhecer', 'conhecia', 'conhecido', 'conhecimento', 'conheco', 'conjunto', 'conosco', 'conquista', 'consciencia', 'consegue', 'conseguem', 'consegui', 'conseguia', 'conseguiam', 'conseguido', 'conseguimos', 'conseguindo', 'conseguir', 'conseguiram', 'conseguirei', 'conseguiria', 'conseguiriam', 'conseguiriamos', 'conseguirmos', 'conseguisse', 'conseguiu', 'consentimento', 'consequencia', 'consequencias', 'consequente', 'consequentemente', 'consertada', 'consertar', 'conserto', 'considera', 'consideracao', 'consideracoes', 'considerada', 'consideradas', 'considerado', 'considerados', 'considerando', 'considerar', 'consideravel', 'consideravelmente', 'considerei', 'considero', 'consiga', 'consigam', 'consigo', 'consiste', 'consoante', 'consta', 'constam', 'constando', 'constante', 'constantemente', 'constantes', 'constar', 'constatado', 'constatamos', 'constatar', 'constatei', 'constatou', 'constava', 'constavam', 'constituicao', 'constou', 'constragimento', 'constrangedor', 'constrangedora', 'constrangida', 'constrangido', 'constrangidos', 'constrangimento', 'constrangimentos', 'consulado', 'consulta', 'consultada', 'consultado', 'consultando', 'consultar', 'consultas', 'consultei', 'consultou', 'consumerista', 'consumeristas', 'consumidor', 'consumidora', 'consumidores', 'consumir', 'consumo', 'conta', 'contabilizados', 'contact', 'contactado', 'contactar', 'contactei', 'contado', 'contados', 'contagem', 'contagiosa', 'contando', 'contanto', 'contar', 'contas', 'contatado', 'contatar', 'contatei', 'contato', 'contatos', 'contatou', 'contava', 'contei', 'contem', 'contempla', 'contendo', 'contento', 'contestacao', 'contestar', 'contestei', 'conteudo', 'contexto', 'contidas', 'contingencia', 'continha', 'continua', 'continuacao', 'continuam', 'continuamos', 'continuar', 'continuaram', 'continuava', 'continue', 'continuei', 'continuidade', 'continuo', 'continuou', 'conto', 'contra', 'contrapartida', 'contraria', 'contrariando', 'contrario', 'contratacao', 'contratada', 'contratadas', 'contratado', 'contratados', 'contratamos', 'contratar', 'contratei', 'contratempo', 'contratempos', 'contrato', 'contratos', 'contratou', 'contratuais', 'contratual', 'controle', 'contudo', 'convem', 'convencao', 'convencer', 'conveniencia', 'conveniente', 'convenio', 'conversa', 'conversamos', 'conversando', 'conversao', 'conversar', 'conversas', 'conversei', 'convertida', 'convertido', 'convertidos', 'copa', 'copia', 'copias', 'copo', 'cor', 'cordial', 'cordialidade', 'cordialmente', 'corpo', 'corre', 'correa', 'correcao', 'correcoes', 'corredor', 'correia', 'correio', 'correios', 'corremos', 'correndo', 'corrente', 'correr', 'correria', 'corresponde', 'correspondente', 'correspondentes', 'correspondia', 'correta', 'corretamente', 'corretas', 'correto', 'corretos', 'corri', 'corrida', 'corrido', 'corridos', 'corrigido', 'corrigidos', 'corrigir', 'corro', 'cortesia', 'corumba', 'costa', 'costas', 'costume', 'cota', 'cotacao', 'couro', 'cpf', 'cpfs', 'cracha', 'credibilidade', 'creditacao', 'creditada', 'creditadas', 'creditado', 'creditados', 'creditamento', 'creditar', 'creditaram', 'credite', 'creditem', 'credito', 'creditos', 'creditou', 'creio', 'crer', 'cria', 'criada', 'criado', 'crianca', 'criancas', 'criando', 'criar', 'criei', 'crime', 'criou', 'crise', 'cristiane', 'cristina', 'criterio', 'criterios', 'cronograma', 'cruz', 'cruzeiro', 'cuiaba', 'cuidado', 'cuidados', 'cuidar', 'cuja', 'cujas', 'cujo', 'cujos', 'culpa', 'cumbica', 'cumpra', 'cumpram', 'cumpre', 'cumprem', 'cumpri', 'cumprida', 'cumpridas', 'cumprido', 'cumpridos', 'cumprimento', 'cumprindo', 'cumprir', 'cumpriram', 'cumprisse', 'cumpriu', 'cunha', 'cunhada', 'cunhado', 'cupom', 'cupons', 'curacao', 'curioso', 'curitiba', 'curso', 'curta', 'curto', 'cusco', 'custa', 'custando', 'custar', 'custaram', 'custaria', 'custas', 'custava', 'custear', 'custo', 'custos', 'custou', 'cvc', 'cwb', 'dada', 'dadas', 'dado', 'dados', 'dai', 'dali', 'dando', 'daniel', 'daniela', 'daniele', 'danificacao', 'danificada', 'danificadas', 'danificado', 'danificados', 'danificou', 'dano', 'danos', 'dao', 'daquela', 'daquele', 'daqui', 'daquilo', 'dar', 'dara', 'darem', 'daria', 'dariam', 'data', 'datado', 'datas', 'dava', 'davam', 'davi', 'david', 'debitada', 'debitadas', 'debitado', 'debitados', 'debito', 'debitos', 'debitou', 'deboche', 'debora', 'dec', 'decente', 'decepcao', 'decepcionada', 'decepcionado', 'decidi', 'decidimos', 'decidir', 'decidiram', 'decidiu', 'decisao', 'decisoes', 'declaracao', 'decolado', 'decolagem', 'decolamos', 'decolando', 'decolar', 'decolaria', 'decolou', 'decorrencia', 'decorrente', 'decorrentes', 'decorrer', 'decorreu', 'decorrido', 'decorridos', 'decreto', 'deem', 'defeito', 'defender', 'deferido', 'deferimento', 'defesa', 'deficiencia', 'deficiente', 'definicao', 'definida', 'definido', 'definidos', 'definir', 'definitiva', 'definitivamente', 'definitivo', 'deg', 'dei', 'deixa', 'deixada', 'deixado', 'deixam', 'deixamos', 'deixando', 'deixar', 'deixaram', 'deixarem', 'deixaria', 'deixasse', 'deixe', 'deixei', 'deixo', 'deixou', 'del', 'delegacia', 'delegado', 'delta', 'demais', 'demanda', 'demandada', 'demandas', 'demonstra', 'demonstrado', 'demonstram', 'demonstrando', 'demonstrar', 'demonstrou', 'demora', 'demorado', 'demorando', 'demorar', 'demoraram', 'demoraria', 'demorei', 'demorou', 'demos', 'denise', 'denominada', 'dentre', 'dentro', 'denuncia', 'denunciar', 'deparamos', 'deparei', 'deparo', 'departamento', 'depende', 'dependendo', 'depender', 'depositado', 'depositados', 'depositar', 'deposito', 'der', 'deram', 'des', 'desacompanhada', 'desacompanhado', 'desacordo', 'desafio', 'desagradavel', 'desapareceu', 'desarrazoada', 'desbloqueio', 'descansar', 'descanso', 'descaso', 'descemos', 'descer', 'desci', 'descobri', 'descobrimos', 'descobrir', 'descobriu', 'desconfortavel', 'desconforto', 'desconfortos', 'desconhecia', 'desconhecido', 'desconhecimento', 'desconheco', 'descontada', 'descontado', 'descontados', 'descontando', 'descontar', 'descontentamento', 'descontente', 'desconto', 'descontos', 'descrever', 'descricao', 'descrita', 'descritas', 'descrito', 'descritos', 'descubro', 'desculpa', 'desculpas', 'desculpe', 'descumprimento', 'descumprindo', 'descumpriu', 'desde', 'deseja', 'desejada', 'desejado', 'desejamos', 'desejar', 'desejava', 'desejo', 'desembarcamos', 'desembarcar', 'desembarque', 'desembarquei', 'desembolsar', 'desencontradas', 'desencontro', 'desesperada', 'desesperado', 'desesperados', 'desespero', 'desfazer', 'desfrutar', 'desgastante', 'desgaste', 'desgastes', 'desinformacao', 'desistencia', 'desisti', 'desistindo', 'desistir', 'desleal', 'desligada', 'desligado', 'desligam', 'desligar', 'desligaram', 'desligou', 'desliguei', 'deslocamento', 'deslocamentos', 'deslocar', 'desloquei', 'desmarcar', 'desnecessaria', 'desnecessario', 'desnecessarios', 'desorganizacao', 'desorganizada', 'despacha', 'despachada', 'despachadas', 'despachado', 'despachados', 'despachamos', 'despachando', 'despachar', 'despachasse', 'despache', 'despachei', 'despacho', 'despachos', 'despachou', 'despeito', 'despendido', 'despesa', 'despesas', 'desprazer', 'despreparada', 'despreparado', 'despreparados', 'despreparo', 'desprezo', 'desproporcional', 'desrespeita', 'desrespeitada', 'desrespeitado', 'desrespeitando', 'desrespeito', 'desrespeitosa', 'desrespeitoso', 'dessa', 'dessas', 'desse', 'desses', 'desta', 'destaca', 'destacar', 'destaco', 'destaque', 'destarte', 'destas', 'deste', 'destes', 'destinada', 'destinado', 'destino', 'destinos', 'destruida', 'desumano', 'desvantagem', 'desviado', 'detalhado', 'detalhamento', 'detalhe', 'detalhes', 'determina', 'determinacao', 'determinada', 'determinado', 'detrimento', 'deu', 'deus', 'deva', 'deve', 'devem', 'devemos', 'devendo', 'dever', 'devera', 'deverao', 'deveres', 'deveria', 'deveriam', 'deveriamos', 'devia', 'devida', 'devidamente', 'devidas', 'devido', 'devidos', 'devo', 'devolucao', 'devolva', 'devolvam', 'devolve', 'devolvem', 'devolvendo', 'devolver', 'devolveram', 'devolverem', 'devolveria', 'devolveriam', 'devolvesse', 'devolveu', 'devolvida', 'devolvidas', 'devolvido', 'devolvidos', 'dez', 'dezembro', 'dezenas', 'df', 'dia', 'diagnostico', 'dialogo', 'diamante', 'diante', 'diaria', 'diariamente', 'diarias', 'diario', 'dias', 'diego', 'diferenca', 'diferencas', 'diferenciada', 'diferenciado', 'diferente', 'diferentemente', 'diferentes', 'dificil', 'dificuldade', 'dificuldades', 'dificulta', 'dificultando', 'dificultar', 'diga', 'digitacao', 'digitado', 'digital', 'digitar', 'digitei', 'digna', 'dignidade', 'digno', 'digo', 'dimensao', 'dimensoes', 'diminuir', 'dinheiro', 'direcao', 'direciona', 'direcionada', 'direcionado', 'direcionados', 'direcionamento', 'direcionar', 'direcionaram', 'direcionei', 'direcionou', 'direito', 'direitos', 'direta', 'diretamente', 'direto', 'diretos', 'dirigi', 'dirigimos', 'dirigindo', 'dirigir', 'dirigisse', 'dirigiu', 'discordo', 'discriminacao', 'discussao', 'discussoes', 'discutir', 'disney', 'dispensado', 'dispoe', 'disponho', 'disponibilidade', 'disponibilidades', 'disponibiliza', 'disponibilizacao', 'disponibilizada', 'disponibilizadas', 'disponibilizado', 'disponibilizados', 'disponibilizam', 'disponibilizando', 'disponibilizar', 'disponibilizaram', 'disponibilizava', 'disponibilize', 'disponibilizou', 'disponiveis', 'disponivel', 'dispor', 'dispos', 'disposicao', 'disposicoes', 'dispositivo', 'dispositivos', 'disposta', 'disposto', 'dispostos', 'dispunha', 'disse', 'disseram', 'disso', 'distancia', 'distante', 'distintas', 'distintos', 'disto', 'dita', 'dito', 'diurno', 'divergencia', 'divergente', 'divergentes', 'diversa', 'diversas', 'diverso', 'diversos', 'divida', 'dividido', 'dividir', 'divulgacao', 'divulgada', 'divulgado', 'divulgou', 'diz', 'dizem', 'dizendo', 'dizer', 'dizia', 'diziam', 'dl', 'dobrado', 'dobro', 'doc', 'documentacao', 'documentacoes', 'documento', 'documentos', 'doenca', 'doencas', 'doente', 'dois', 'dolar', 'dolares', 'domestico', 'domesticos', 'domicilio', 'domingo', 'dono', 'dor', 'dores', 'dormi', 'dormindo', 'dormir', 'dotz', 'dou', 'downgrade', 'doze', 'dr', 'duarte', 'duas', 'dubai', 'dublin', 'dumond', 'dumont', 'dupla', 'duplicada', 'duplicado', 'duplicidade', 'dura', 'duracao', 'durante', 'durar', 'duraria', 'durou', 'duvida', 'duvidas', 'duzentos', 'economia', 'economica', 'economico', 'economizar', 'economy', 'edestinos', 'editado', 'edital', 'edreams', 'edson', 'eduardo', 'educacao', 'educada', 'educado', 'educados', 'efeito', 'efeitos', 'efetiva', 'efetivacao', 'efetivada', 'efetivado', 'efetivamente', 'efetivar', 'efetivei', 'efetivo', 'efetua', 'efetuada', 'efetuadas', 'efetuado', 'efetuados', 'efetuamos', 'efetuando', 'efetuar', 'efetuaram', 'efetuasse', 'efetue', 'efetuei', 'efetuou', 'eficaz', 'eficiencia', 'eficiente', 'eh', 'eis', 'el', 'elaine', 'elegivel', 'eletronica', 'eletronico', 'eletronicos', 'elevado', 'elevados', 'elite', 'elo', 'email', 'emails', 'embaixo', 'embalagem', 'embarca', 'embarcada', 'embarcado', 'embarcados', 'embarcamos', 'embarcando', 'embarcar', 'embarcaram', 'embarcarem', 'embarcaria', 'embarcariamos', 'embarcarmos', 'embarcasse', 'embarcassemos', 'embarcou', 'embarque', 'embarquei', 'embarques', 'embora', 'emergencia', 'emergenciais', 'emergencial', 'emissao', 'emissoes', 'emissor', 'emissora', 'emita', 'emite', 'emiti', 'emitida', 'emitidas', 'emitido', 'emitidos', 'emitindo', 'emitir', 'emitiram', 'emitiu', 'emocionais', 'emocional', 'emocionalmente', 'empatia', 'empregado', 'emprego', 'empresa', 'empresas', 'emprestado', 'empurra', 'empurrando', 'empurrar', 'en', 'encaixar', 'encaixe', 'encaminha', 'encaminhada', 'encaminhado', 'encaminhados', 'encaminhamento', 'encaminhamos', 'encaminhando', 'encaminhar', 'encaminharam', 'encaminhei', 'encaminho', 'encaminhou', 'encarecidamente', 'encargos', 'encerra', 'encerrada', 'encerrado', 'encerramento', 'encerrando', 'encerrar', 'encerrou', 'encomenda', 'encontra', 'encontrada', 'encontradas', 'encontrado', 'encontram', 'encontramos', 'encontrando', 'encontrar', 'encontraram', 'encontrava', 'encontravam', 'encontre', 'encontrei', 'encontro', 'encontrou', 'endereco', 'endosso', 'energia', 'enfim', 'enfrentando', 'enfrentar', 'enfrentei', 'enganacao', 'enganada', 'enganado', 'enganados', 'enganar', 'engano', 'enganosa', 'engracado', 'enorme', 'enormes', 'enquadra', 'enquanto', 'enriquecimento', 'enrolacao', 'enrolando', 'entanto', 'entao', 'entenda', 'entende', 'entendemos', 'entendendo', 'entender', 'entendeu', 'entendi', 'entendido', 'entendimento', 'entendo', 'entes', 'entra', 'entrada', 'entrado', 'entram', 'entramos', 'entrando', 'entrar', 'entraram', 'entrarei', 'entrarem', 'entraria', 'entrariam', 'entrarmos', 'entrasse', 'entrava', 'entrega', 'entregar', 'entregaram', 'entregariam', 'entregou', 'entregue', 'entreguei', 'entregues', 'entrei', 'entrem', 'entretanto', 'entretenimento', 'entrevista', 'entro', 'entrou', 'envia', 'enviada', 'enviadas', 'enviado', 'enviados', 'enviam', 'enviamos', 'enviando', 'enviar', 'enviaram', 'enviaria', 'enviasse', 'enviassem', 'envie', 'enviei', 'enviem', 'envio', 'enviou', 'envolve', 'envolvendo', 'envolvidas', 'envolvidos', 'episodio', 'epoca', 'equidade', 'equipamento', 'equipamentos', 'equipe', 'equivale', 'equivalente', 'equivalentes', 'equivocada', 'equivocadamente', 'equivoco', 'erica', 'errada', 'erradas', 'errado', 'errados', 'errei', 'erro', 'erronea', 'erroneamente', 'erros', 'errou', 'es', 'escada', 'escala', 'escalas', 'esclarecemos', 'esclarecer', 'esclareceu', 'esclarecido', 'esclarecimento', 'esclarecimentos', 'esclareco', 'escola', 'escolha', 'escolhemos', 'escolhendo', 'escolher', 'escolhi', 'escolhida', 'escolhido', 'escolhidos', 'escova', 'escrevi', 'escrevo', 'escrita', 'escrito', 'escritorio', 'escuta', 'escutar', 'escutei', 'esfera', 'esforco', 'esforcos', 'esgotado', 'esgotou', 'espaco', 'espacos', 'espanha', 'espanhol', 'espanto', 'especiais', 'especial', 'especialmente', 'especie', 'especifica', 'especificacoes', 'especificado', 'especificamente', 'especifico', 'especificos', 'espera', 'esperada', 'esperado', 'esperamos', 'esperanca', 'esperando', 'esperar', 'esperas', 'esperasse', 'esperava', 'esperavamos', 'esperei', 'espero', 'espirito', 'esposa', 'esposo', 'esqueceu', 'esqueci', 'esquecido', 'esquerdo', 'essenciais', 'estabelecam', 'estabelece', 'estabelecer', 'estabelecida', 'estabelecidas', 'estabelecido', 'estabelecidos', 'estabelecimento', 'estacionamento', 'estada', 'estadia', 'estado', 'estados', 'estando', 'estar', 'estara', 'estarao', 'estarei', 'estarem', 'estaremos', 'estaria', 'estariam', 'estariamos', 'estarmos', 'estavel', 'esteira', 'esteiras', 'estilo', 'estimacao', 'estimado', 'estipula', 'estipulada', 'estipulado', 'estornada', 'estornadas', 'estornado', 'estornados', 'estornar', 'estornaram', 'estorne', 'estorno', 'estornos', 'estornou', 'estourado', 'estrada', 'estragada', 'estrago', 'estrangeira', 'estranha', 'estranhamente', 'estranhei', 'estranheza', 'estranho', 'estressada', 'estressados', 'estressante', 'estresse', 'estrutura', 'estudo', 'etapa', 'etapas', 'etc', 'etica', 'eticket', 'etickets', 'etiqueta', 'etiquetada', 'etiquetas', 'etkt', 'eua', 'eur', 'europa', 'euros', 'evento', 'eventos', 'eventuais', 'eventual', 'eventualmente', 'evidencia', 'evidencias', 'evidente', 'evidentemente', 'evitado', 'evitando', 'evitar', 'evitarmos', 'ex', 'exagerada', 'exame', 'exames', 'examinadora', 'exata', 'exatamente', 'exato', 'exatos', 'exausta', 'exausto', 'exaustos', 'excecao', 'excedente', 'exceder', 'excedido', 'excelencia', 'excelente', 'excepcional', 'excessiva', 'excessivamente', 'excessivo', 'excesso', 'exceto', 'exclusao', 'exclusiva', 'exclusivamente', 'exclusivo', 'execucao', 'executado', 'executar', 'executiva', 'exemplo', 'exercer', 'exercicio', 'exercitar', 'exige', 'exigencia', 'exigencias', 'exigi', 'exigida', 'exigidas', 'exigido', 'exigidos', 'exigimos', 'exigindo', 'exigir', 'exigiu', 'exigo', 'exijo', 'existe', 'existem', 'existencia', 'existente', 'existentes', 'existia', 'existiam', 'existir', 'existiu', 'exito', 'exorbitante', 'exorbitantes', 'expectativa', 'expectativas', 'expedia', 'expedicao', 'expediente', 'experiencia', 'experiencias', 'expiracao', 'expirado', 'expirados', 'expirar', 'expiraram', 'expirou', 'explica', 'explicacao', 'explicacoes', 'explicado', 'explicamos', 'explicando', 'explicar', 'explicaram', 'explicito', 'explico', 'explicou', 'expliquei', 'expondo', 'expor', 'exposicao', 'exposta', 'exposto', 'expostos', 'express', 'expressa', 'expressamente', 'expressar', 'expresso', 'expus', 'extensao', 'exterior', 'externa', 'externo', 'extorno', 'extra', 'extrajudicial', 'extras', 'extrato', 'extraviada', 'extraviadas', 'extraviado', 'extraviados', 'extravio', 'extraviou', 'extrema', 'extremamente', 'extremo', 'eze', 'ezeiza', 'fabiana', 'fabio', 'faca', 'facam', 'face', 'facebook', 'facil', 'facilidade', 'facilidades', 'facilitar', 'facilmente', 'faco', 'faculdade', 'facultado', 'faixa', 'fala', 'falado', 'falam', 'falamos', 'falando', 'falante', 'falar', 'falaram', 'falava', 'falavam', 'fale', 'faleceu', 'falecimento', 'falei', 'falha', 'falhas', 'falho', 'falo', 'falou', 'falsa', 'falsas', 'falta', 'faltam', 'faltando', 'faltante', 'faltantes', 'faltar', 'faltava', 'faltavam', 'faltou', 'familia', 'familiar', 'familiares', 'familias', 'fara', 'farei', 'faria', 'fariam', 'fariamos', 'farias', 'fase', 'fatima', 'fato', 'fator', 'fatores', 'fatos', 'fatura', 'faturas', 'favor', 'favoravel', 'faz', 'faze', 'fazem', 'fazemos', 'fazendo', 'fazer', 'fazerem', 'fazermos', 'fazia', 'faziam', 'fco', 'fe', 'febre', 'fecha', 'fechada', 'fechadas', 'fechado', 'fechados', 'fechamento', 'fechando', 'fechar', 'fecharam', 'fechei', 'fecho', 'fechou', 'federal', 'feedback', 'feira', 'feita', 'feitas', 'feito', 'feitos', 'felipe', 'feliz', 'felizmente', 'fen', 'fere', 'feriado', 'ferias', 'ferindo', 'fernanda', 'fernandes', 'fernando', 'ferramenta', 'ferramentas', 'ferrari', 'ferreira', 'festa', 'festas', 'fev', 'fevereiro', 'fez', 'fi', 'fibra', 'fica', 'ficado', 'ficam', 'ficamos', 'ficando', 'ficar', 'ficara', 'ficaram', 'ficarei', 'ficarem', 'ficaria', 'ficariam', 'ficariamos', 'ficarmos', 'ficasse', 'ficava', 'ficavam', 'fico', 'ficou', 'fidelidade', 'fidelizacao', 'fiel', 'fila', 'filas', 'fileira', 'fileiras', 'filha', 'filhas', 'filho', 'filhos', 'filmagens', 'fim', 'finais', 'final', 'finalidade', 'finalizacao', 'finalizada', 'finalizado', 'finalizando', 'finalizar', 'finalizei', 'finalizou', 'finalmente', 'financeira', 'financeiramente', 'financeiras', 'financeiro', 'financeiros', 'finger', 'fins', 'fique', 'fiquei', 'fiquem', 'firma', 'firmado', 'firmados', 'fiscais', 'fiscal', 'fiscalizacao', 'fisica', 'fisicas', 'fisico', 'fisicos', 'fita', 'fixa', 'fixo', 'fiz', 'fizemos', 'fizer', 'fizeram', 'fizesse', 'fizessem', 'fl', 'flagrante', 'flavia', 'flavio', 'flex', 'flexibilidade', 'flexivel', 'flight', 'fll', 'fln', 'florianopolis', 'florida', 'floripa', 'fluxo', 'folga', 'folha', 'fome', 'fone', 'fonseca', 'fonte', 'forca', 'forcada', 'forcado', 'forcando', 'forcar', 'forma', 'formal', 'formalizar', 'formalmente', 'formas', 'formatura', 'formulario', 'formularios', 'forneca', 'fornece', 'fornecedor', 'fornecedora', 'fornecedores', 'fornecem', 'fornecendo', 'fornecer', 'forneceram', 'forneceu', 'forneci', 'fornecida', 'fornecidas', 'fornecido', 'fornecidos', 'fornecimento', 'fort', 'fortaleza', 'forte', 'fortes', 'fortuito', 'forum', 'foto', 'fotos', 'foz', 'fra', 'frageis', 'fragil', 'franca', 'france', 'francisco', 'frankfurt', 'franquia', 'franquias', 'frase', 'fraude', 'free', 'freitas', 'fremec', 'frente', 'frequencia', 'frequente', 'frequentemente', 'frequentes', 'fretado', 'frete', 'friday', 'frio', 'frisa', 'frisar', 'frise', 'friso', 'from', 'frontal', 'frustracao', 'frustrada', 'frustradas', 'frustrado', 'frustrante', 'funcao', 'funciona', 'funcionam', 'funcionamento', 'funcionando', 'funcionar', 'funcionaria', 'funcionarias', 'funcionario', 'funcionarios', 'funcionava', 'funcionou', 'fundamento', 'fundo', 'furacao', 'furtada', 'furtado', 'furtados', 'furto', 'futura', 'futuramente', 'futuras', 'futuro', 'futuros', 'gabarito', 'gabriel', 'gabriela', 'galaxy', 'galeao', 'ganha', 'ganhar', 'ganharia', 'ganhe', 'ganhei', 'ganho', 'garanta', 'garante', 'garantia', 'garantias', 'garantida', 'garantido', 'garantindo', 'garantir', 'garantiram', 'garantiu', 'garcia', 'garrafa', 'garrafas', 'garulhos', 'gasolina', 'gastamos', 'gastando', 'gastar', 'gastas', 'gastei', 'gasto', 'gastos', 'gate', 'gato', 'gatos', 'gb', 'gc', 'genoveva', 'gente', 'gentil', 'gentileza', 'gentilmente', 'gera', 'geracao', 'gerada', 'geradas', 'gerado', 'gerados', 'gerais', 'geral', 'geralmente', 'geram', 'gerando', 'gerar', 'geraram', 'geraria', 'gerencia', 'gerente', 'gerou', 'gestacao', 'gestante', 'gestao', 'gig', 'gigante', 'gigantesca', 'giovanna', 'gisele', 'globo', 'gmail', 'gmt', 'go', 'goiania', 'gol', 'gold', 'golpe', 'gomes', 'goncalves', 'google', 'gostaria', 'gostariamos', 'gosto', 'gov', 'governador', 'governamentais', 'governo', 'graca', 'gracas', 'grade', 'grafia', 'gramado', 'grande', 'grandes', 'grata', 'gratis', 'grato', 'gratuita', 'gratuitamente', 'gratuito', 'grau', 'graus', 'gravacao', 'gravacoes', 'gravada', 'gravadas', 'gravado', 'grave', 'gravei', 'graves', 'gravida', 'gravidade', 'gravidez', 'greve', 'gritando', 'grossa', 'grosseira', 'grosseiramente', 'grosseiro', 'grosseria', 'grosso', 'group', 'gru', 'grula', 'grupo', 'guararapes', 'guarda', 'guardar', 'guarulho', 'guarulhos', 'guedes', 'guia', 'guiche', 'guiches', 'guilherme', 'guimaraes', 'gustavo', 'gyn', 'habil', 'havendo', 'haver', 'havera', 'haveria', 'havia', 'haviam', 'haviamos', 'havido', 'helena', 'henrique', 'higiene', 'hipotese', 'hipoteses', 'historia', 'historico', 'hj', 'hoje', 'honra', 'honrada', 'honrado', 'honrando', 'honrar', 'honrasse', 'honre', 'honrem', 'honrou', 'hora', 'horario', 'horarios', 'horas', 'horizonte', 'horrivel', 'hospedada', 'hospedado', 'hospedados', 'hospedagem', 'hospedagens', 'hospedar', 'hospital', 'hoteis', 'hotel', 'hotmail', 'hotsite', 'houston', 'hr', 'hrs', 'hs', 'http', 'https', 'hugo', 'hum', 'humana', 'humano', 'humilhacao', 'humilhada', 'humilhado', 'humilhante', 'ia', 'iam', 'iamos', 'ib', 'iberia', 'ibis', 'id', 'ida', 'idade', 'idas', 'ideal', 'idec', 'ideia', 'identica', 'identico', 'identidade', 'identificacao', 'identificada', 'identificado', 'identificador', 'identificamos', 'identificar', 'identificou', 'identifiquei', 'idioma', 'ido', 'idosa', 'idosas', 'idoso', 'idosos', 'ignorada', 'ignorado', 'ignorando', 'ignoraram', 'ignorou', 'igu', 'iguacu', 'iguais', 'igual', 'igualmente', 'ii', 'iii', 'ilegal', 'ilegalidade', 'ilha', 'ilheus', 'ilicito', 'imagem', 'imagens', 'imagina', 'imaginar', 'imagine', 'imaginei', 'imagino', 'imediata', 'imediatamente', 'imediatas', 'imediato', 'imensa', 'imenso', 'imigracao', 'impacto', 'impasse', 'impede', 'impedida', 'impedido', 'impedidos', 'impedimento', 'impedindo', 'impedir', 'impediram', 'impediu', 'imperatriz', 'implica', 'implicaria', 'implorar', 'impoe', 'impor', 'importa', 'importancia', 'importando', 'importante', 'importantes', 'importe', 'importou', 'impos', 'imposicao', 'impossibilidade', 'impossibilita', 'impossibilitada', 'impossibilitado', 'impossibilitados', 'impossibilitando', 'impossibilitou', 'impossivel', 'imposta', 'impostas', 'imposto', 'impostos', 'imprensa', 'impressao', 'impressionante', 'impresso', 'imprevisivel', 'imprevisto', 'imprevistos', 'imprimi', 'imprimir', 'imprimiu', 'in', 'inaceitavel', 'inacreditavel', 'inadequada', 'inadequado', 'inadiaveis', 'inadiavel', 'inadmissivel', 'incapacidade', 'incapaz', 'incerteza', 'incidencia', 'incidente', 'inciso', 'incisos', 'inclui', 'incluia', 'incluida', 'incluidas', 'incluido', 'incluidos', 'incluindo', 'incluir', 'incluiu', 'inclusa', 'inclusao', 'inclusas', 'inclusive', 'incluso', 'incomodo', 'incompativeis', 'incompativel', 'incompetencia', 'inconformada', 'inconformado', 'inconsistencia', 'inconveniente', 'inconvenientes', 'incorreta', 'incorretamente', 'incorretas', 'incorreto', 'incrivel', 'indaguei', 'indebito', 'indenizacao', 'indenizacoes', 'indenizada', 'indenizado', 'indenizar', 'indenizatoria', 'indenizatorio', 'indenize', 'independente', 'independentemente', 'indevida', 'indevidamente', 'indevidas', 'indevido', 'indevidos', 'indica', 'indicacao', 'indicada', 'indicado', 'indicados', 'indicando', 'indicar', 'indicaram', 'indicava', 'indicou', 'indiferenca', 'indignacao', 'indignada', 'indignado', 'indignados', 'indiquei', 'indisponibilidade', 'indisponivel', 'individual', 'indo', 'induz', 'induzido', 'induzindo', 'induzir', 'induziu', 'ineficiencia', 'ineficiente', 'inesperada', 'inexistencia', 'inexistente', 'infecto', 'infelicidade', 'infeliz', 'infelizmente', 'inferior', 'inferiores', 'informa', 'informacao', 'informacoes', 'informada', 'informadas', 'informado', 'informados', 'informam', 'informamos', 'informando', 'informar', 'informaram', 'informarem', 'informasse', 'informativo', 'informava', 'informavam', 'informe', 'informei', 'informo', 'informou', 'infortunio', 'infracao', 'infraero', 'inglaterra', 'ingles', 'ingressar', 'ingressarei', 'ingresso', 'ingressos', 'inicia', 'iniciada', 'iniciado', 'iniciais', 'inicial', 'inicialmente', 'iniciando', 'iniciar', 'iniciativa', 'iniciei', 'inicio', 'iniciou', 'iniquas', 'injusta', 'injusto', 'inn', 'inoperante', 'insatisfacao', 'insatisfeita', 'insatisfeito', 'insatisfeitos', 'inscricao', 'inscrito', 'inseguranca', 'insercao', 'inseri', 'inserido', 'inserir', 'insiste', 'insistem', 'insistencia', 'insistentemente', 'insisti', 'insistindo', 'insistir', 'insistiu', 'inspecao', 'insta', 'instabilidade', 'instante', 'instantes', 'instavel', 'instituicao', 'instrucao', 'instrucoes', 'instruida', 'instruido', 'instruiu', 'instrumento', 'insuficiente', 'insuficientes', 'insuportavel', 'intacta', 'integra', 'integral', 'integralidade', 'integralmente', 'integrantes', 'integridade', 'inteira', 'inteiramente', 'inteiro', 'inteligentes', 'intencao', 'intenso', 'interacao', 'intercambio', 'interessa', 'interessante', 'interesse', 'interesses', 'interior', 'intermediacao', 'intermedio', 'intermitencia', 'interna', 'internacao', 'internacionais', 'internacional', 'internada', 'internado', 'internamente', 'internas', 'international', 'internet', 'interno', 'internos', 'interpretacao', 'interrompida', 'interrupcao', 'intervalo', 'intervencao', 'intimas', 'intl', 'intransferivel', 'intuito', 'inumeras', 'inumeros', 'inutil', 'invalido', 'inventario', 'inves', 'investido', 'investigacao', 'investimento', 'inviabiliza', 'inviabilizando', 'inviabilizou', 'inviaveis', 'inviavel', 'involuntaria', 'involuntario', 'iof', 'iorque', 'ios', 'ipatinga', 'iphone', 'ir', 'ira', 'irao', 'irei', 'irem', 'iremos', 'iria', 'iriam', 'iriamos', 'irlanda', 'irma', 'irmao', 'irmos', 'ironia', 'irredutivel', 'irregular', 'irregularidade', 'irregularidades', 'irreparaveis', 'irreparavel', 'irresponsabilidade', 'irresponsavel', 'irrisorio', 'is', 'isencao', 'isenta', 'isentar', 'isento', 'isopor', 'istambul', 'it', 'italia', 'itau', 'itaucard', 'item', 'itens', 'itinerario', 'itinerarios', 'iv', 'jaguaruna', 'jamais', 'jan', 'janeiro', 'janela', 'janta', 'jantar', 'jeans', 'jeito', 'jericoacoara', 'jessica', 'jesus', 'jfk', 'ji', 'jj', 'jnb', 'joana', 'joanesburgo', 'joao', 'joelho', 'joga', 'jogados', 'jogam', 'jogando', 'jogar', 'jogaram', 'jogo', 'jogou', 'joias', 'joinville', 'jorge', 'jose', 'jpa', 'juazeiro', 'judiciais', 'judicial', 'judicialmente', 'judiciario', 'juiz', 'juizado', 'juizo', 'jul', 'julgo', 'julho', 'julia', 'juliana', 'julio', 'jun', 'junho', 'junior', 'junta', 'juntamente', 'juntar', 'juntas', 'junto', 'juntos', 'juridica', 'juridico', 'jurisprudencia', 'juros', 'jus', 'justa', 'justamente', 'justica', 'justifica', 'justificando', 'justificar', 'justificativa', 'justificativas', 'justificavel', 'justifique', 'justo', 'karen', 'kelly', 'kennel', 'kg', 'kgs', 'kilos', 'kit', 'kl', 'klm', 'km', 'la', 'lacre', 'lado', 'lados', 'lamentamos', 'lamentavel', 'lamentavelmente', 'lan', 'lancada', 'lancadas', 'lancado', 'lancamento', 'lancamentos', 'lanche', 'lanches', 'lanchonete', 'lancou', 'lapso', 'largura', 'larissa', 'las', 'latam', 'latan', 'lateral', 'lauderdale', 'laudo', 'laudos', 'laura', 'lax', 'lazer', 'ldb', 'le', 'leandro', 'legais', 'legal', 'legalidade', 'legalmente', 'legislacao', 'lei', 'leis', 'leite', 'leitura', 'lembrando', 'lembrar', 'lembre', 'lembro', 'lentidao', 'lento', 'leonardo', 'ler', 'lesada', 'lesado', 'lesados', 'lesando', 'lesao', 'lesar', 'leticia', 'letra', 'letras', 'leva', 'levada', 'levado', 'levados', 'levam', 'levamos', 'levando', 'levantar', 'levar', 'levaram', 'levaria', 'levasse', 'leve', 'levei', 'levou', 'lh', 'lhr', 'li', 'libera', 'liberacao', 'liberada', 'liberado', 'liberados', 'liberalidade', 'liberar', 'liberaram', 'liberou', 'licenca', 'lidar', 'lider', 'lido', 'liga', 'ligacao', 'ligacoes', 'ligado', 'ligamos', 'ligando', 'ligar', 'ligaram', 'ligaria', 'ligasse', 'ligava', 'light', 'ligo', 'ligou', 'ligue', 'liguei', 'lim', 'lima', 'limita', 'limitacao', 'limitacoes', 'limitada', 'limitado', 'limitando', 'limite', 'limites', 'limitou', 'limpeza', 'line', 'lines', 'lingua', 'linha', 'linhas', 'link', 'lis', 'lisboa', 'lista', 'literalmente', 'livelo', 'livia', 'livre', 'livres', 'lixo', 'll', 'lo', 'loc', 'locacao', 'locadora', 'locais', 'local', 'localidade', 'localidades', 'localiza', 'localizacao', 'localizada', 'localizado', 'localizador', 'localizadores', 'localizar', 'localizaram', 'localizei', 'localizou', 'locomocao', 'locomover', 'logado', 'logar', 'logica', 'logicamente', 'logico', 'login', 'logistica', 'logo', 'loja', 'lojas', 'londres', 'londrina', 'longa', 'longas', 'longe', 'longo', 'longos', 'lopes', 'los', 'lotacao', 'lotada', 'lotado', 'lotados', 'ltda', 'lua', 'luana', 'lucas', 'lucia', 'luciana', 'lucrar', 'lucro', 'lufthansa', 'lugar', 'lugares', 'luis', 'luiz', 'luiza', 'luz', 'lx', 'ma', 'macapa', 'macedo', 'maceio', 'machado', 'mad', 'madri', 'madrid', 'madrinha', 'madrugada', 'mae', 'maes', 'magalhaes', 'magistratura', 'mai', 'maia', 'mail', 'mails', 'maio', 'maior', 'maiores', 'maioria', 'mal', 'mala', 'malas', 'maleta', 'malha', 'malu', 'manaus', 'manda', 'mandado', 'mandam', 'mandando', 'mandar', 'mandaram', 'mandei', 'mando', 'mandou', 'maneira', 'maneiras', 'manha', 'manifestacao', 'manifestamente', 'manifestar', 'manifesto', 'manifestou', 'mantem', 'mantendo', 'mantenha', 'manter', 'manteve', 'mantida', 'mantidas', 'mantido', 'mantidos', 'mantive', 'mantiveram', 'manual', 'manualmente', 'manuseio', 'manutencao', 'mao', 'maos', 'map', 'mapa', 'maquiagem', 'maquina', 'maquinas', 'mar', 'maraba', 'maranhao', 'marca', 'marcacao', 'marcada', 'marcadas', 'marcado', 'marcados', 'marcar', 'marcela', 'marcelo', 'marcia', 'marcio', 'marco', 'marcos', 'marcou', 'maria', 'mariana', 'marido', 'marilia', 'marina', 'maringa', 'marketing', 'marquei', 'marques', 'martins', 'master', 'mastercard', 'materia', 'materiais', 'material', 'materias', 'mateus', 'matheus', 'mato', 'mau', 'mauricio', 'maus', 'max', 'maxima', 'maximo', 'maxmilhas', 'may', 'mco', 'mcz', 'meados', 'medeiros', 'medellin', 'media', 'mediante', 'medica', 'medicacao', 'medicamento', 'medicamentos', 'medicas', 'medico', 'medicos', 'medida', 'medidas', 'medif', 'medio', 'medo', 'mega', 'meia', 'meias', 'meio', 'meios', 'mel', 'melbourne', 'melhor', 'melhora', 'melhorar', 'melhores', 'melhoria', 'melo', 'membro', 'membros', 'mencao', 'menciona', 'mencionada', 'mencionadas', 'mencionado', 'mencionados', 'mencionar', 'mencionei', 'mencionou', 'mendes', 'mendoza', 'menezes', 'menina', 'menor', 'menores', 'menos', 'mensagem', 'mensagens', 'mensais', 'mensal', 'mensalidade', 'mensalmente', 'mental', 'mente', 'mentindo', 'mentira', 'menu', 'mera', 'mercado', 'mercadoria', 'merce', 'merece', 'merecendo', 'mereco', 'mero', 'mes', 'meses', 'mesma', 'mesmas', 'mesmos', 'metade', 'meteorologicas', 'meteorologicos', 'metodo', 'mex', 'mexico', 'mg', 'mi', 'mia', 'miami', 'microfone', 'midia', 'midias', 'migracao', 'miguel', 'mil', 'milao', 'milha', 'milhagem', 'milhagens', 'milhares', 'milhas', 'militar', 'mim', 'min', 'minas', 'minima', 'minimamente', 'minimizar', 'minimo', 'minimos', 'ministerio', 'minuto', 'minutos', 'miranda', 'ml', 'mm', 'mobile', 'mobilidade', 'moca', 'mochila', 'mochilas', 'modalidade', 'modelo', 'modificacao', 'modificacoes', 'modificada', 'modificado', 'modificar', 'modificou', 'modo', 'moeda', 'moldes', 'molhada', 'momento', 'momentos', 'monetaria', 'monetariamente', 'monetario', 'monitor', 'montante', 'monte', 'monteiro', 'montes', 'montevideo', 'montevideu', 'montreal', 'mora', 'moraes', 'morais', 'moral', 'moralmente', 'moramos', 'morando', 'moreira', 'moro', 'morro', 'morte', 'mostra', 'mostrado', 'mostram', 'mostrando', 'mostrar', 'mostraram', 'mostrava', 'mostrei', 'mostrou', 'motivo', 'motivos', 'motivou', 'motorista', 'moura', 'movimentacao', 'movimento', 'mp', 'mr', 'ms', 'msg', 'msm', 'mt', 'muda', 'mudado', 'mudam', 'mudanca', 'mudancas', 'mudando', 'mudar', 'mudaram', 'mudei', 'mudo', 'mudou', 'muita', 'muitas', 'muitos', 'mulher', 'multa', 'multas', 'multiplos', 'multiplus', 'mundo', 'municipio', 'musica', 'mvd', 'my', 'nacionais', 'nacional', 'nada', 'namorada', 'namorado', 'napso', 'naquela', 'naquele', 'narrado', 'narrados', 'nascido', 'nascimento', 'nat', 'natal', 'natalia', 'natural', 'natureza', 'navegador', 'navegadores', 'navegantes', 'ndeg', 'ne', 'necessaire', 'necessaria', 'necessarias', 'necessario', 'necessarios', 'necessidade', 'necessidades', 'necessita', 'necessitando', 'necessitaria', 'necessitava', 'necessitei', 'necessito', 'nega', 'negada', 'negado', 'negados', 'negam', 'negando', 'negar', 'negaram', 'negativa', 'negativas', 'negativo', 'negligencia', 'negociacao', 'negociar', 'negocio', 'negocios', 'negou', 'nela', 'nele', 'nenhum', 'nenhuma', 'nervosa', 'nervoso', 'nervosos', 'nessa', 'nessas', 'nesse', 'nesses', 'nesta', 'nestas', 'neste', 'nestes', 'net', 'neta', 'neto', 'netshoes', 'neves', 'new', 'nf', 'ninguem', 'nisso', 'nitidamente', 'nitido', 'nivel', 'noite', 'noites', 'noiva', 'noivo', 'nome', 'nomes', 'nora', 'norma', 'normais', 'normal', 'normalmente', 'normas', 'normativa', 'noronha', 'norte', 'not', 'nota', 'notamos', 'notar', 'notas', 'note', 'notebook', 'notei', 'noticia', 'noticias', 'notificacao', 'notificada', 'notificado', 'notificante', 'notorio', 'noturno', 'nov', 'nova', 'novamente', 'novas', 'nove', 'novecentos', 'novembro', 'noventa', 'novo', 'novos', 'nr', 'nro', 'nubank', 'nula', 'nulas', 'nulidade', 'number', 'numeracao', 'numero', 'numeros', 'nunca', 'nunes', 'nvt', 'ny', 'nyc', 'oab', 'obito', 'objetiva', 'objetivo', 'objeto', 'objetos', 'obriga', 'obrigacao', 'obrigacoes', 'obrigada', 'obrigado', 'obrigados', 'obrigando', 'obrigar', 'obrigaram', 'obrigatoria', 'obrigatoriamente', 'obrigatoriedade', 'obrigatorio', 'obrigou', 'obs', 'observa', 'observacao', 'observado', 'observamos', 'observando', 'observar', 'observei', 'obstante', 'obtencao', 'obtendo', 'obtenho', 'obter', 'obteve', 'obtida', 'obtido', 'obtive', 'obtivemos', 'obviamente', 'obvio', 'ocasiao', 'ocasioes', 'ocasionado', 'ocasionados', 'ocasionando', 'ocasionou', 'oceanair', 'ocorra', 'ocorre', 'ocorrem', 'ocorrencia', 'ocorrencias', 'ocorrendo', 'ocorrer', 'ocorrera', 'ocorreram', 'ocorreria', 'ocorresse', 'ocorreu', 'ocorria', 'ocorrida', 'ocorrido', 'ocorridos', 'oculos', 'ocupado', 'ocupados', 'of', 'ofensa', 'ofereca', 'oferece', 'oferecem', 'oferecendo', 'oferecer', 'ofereceram', 'ofereceu', 'oferecia', 'oferecida', 'oferecidas', 'oferecido', 'oferecidos', 'oferecimento', 'oferta', 'ofertada', 'ofertadas', 'ofertado', 'ofertados', 'ofertando', 'ofertar', 'ofertaram', 'ofertas', 'ofertou', 'oficial', 'oi', 'oitenta', 'oito', 'oitocentos', 'ok', 'ola', 'olha', 'olhando', 'olhar', 'olhei', 'olhou', 'oliveira', 'omissao', 'on', 'onde', 'one', 'onerosa', 'oneworld', 'onibus', 'online', 'ontem', 'onus', 'onze', 'opcao', 'opcoes', 'opera', 'operacao', 'operacionais', 'operacional', 'operacoes', 'operada', 'operado', 'operador', 'operadora', 'operadoras', 'operadores', 'operados', 'operando', 'operar', 'opiniao', 'oportunidade', 'oportunidades', 'oportuno', 'optado', 'optamos', 'optando', 'optar', 'optasse', 'optei', 'optou', 'oq', 'oque', 'ora', 'orcamento', 'orcamentos', 'ordem', 'ordenamento', 'org', 'organizacao', 'organizado', 'organizadora', 'organizar', 'orgao', 'orgaos', 'orienta', 'orientacao', 'orientacoes', 'orientada', 'orientado', 'orientados', 'orientando', 'orientar', 'orientaram', 'orientou', 'origem', 'originais', 'original', 'originalmente', 'originario', 'orlando', 'otimo', 'ouro', 'out', 'outra', 'outras', 'outro', 'outros', 'outrossim', 'outubro', 'ouve', 'ouvi', 'ouvido', 'ouvidoria', 'ouvindo', 'ouvir', 'ouviu', 'overbooking', 'pa', 'paciencia', 'paciente', 'pacientes', 'pacifica', 'pacificada', 'pacote', 'pacotes', 'padrao', 'padroes', 'paga', 'pagado', 'pagam', 'pagamento', 'pagamentos', 'pagamos', 'pagando', 'pagante', 'pagar', 'pagaram', 'pagarei', 'pagaria', 'pagas', 'pagasse', 'pagina', 'paginas', 'pago', 'pagos', 'pagou', 'pague', 'paguei', 'paguem', 'pai', 'paineis', 'painel', 'pais', 'paises', 'palavra', 'palavras', 'palhacada', 'palhaco', 'palmas', 'panama', 'pane', 'panico', 'pao', 'papeis', 'papel', 'par', 'parabens', 'parada', 'paradas', 'paradeiro', 'parado', 'paragrafo', 'paraguai', 'paralisacao', 'parana', 'parar', 'parceira', 'parceiras', 'parceiro', 'parceiros', 'parcela', 'parcelada', 'parcelado', 'parcelamento', 'parcelar', 'parcelas', 'parceria', 'parcial', 'parcialmente', 'parece', 'parecer', 'pareceu', 'parecia', 'parecido', 'parem', 'parente', 'parentes', 'paris', 'parou', 'parque', 'parques', 'parte', 'partes', 'partia', 'participacao', 'participante', 'participantes', 'participar', 'participei', 'particular', 'particulares', 'partida', 'partido', 'partimos', 'partindo', 'partir', 'partiria', 'partiu', 'pasmem', 'pass', 'passa', 'passada', 'passadas', 'passado', 'passados', 'passageira', 'passageiras', 'passageiro', 'passageiros', 'passagem', 'passagens', 'passam', 'passamos', 'passando', 'passaporte', 'passaportes', 'passar', 'passaram', 'passaredo', 'passarem', 'passaria', 'passarmos', 'passasse', 'passava', 'passavam', 'passe', 'passei', 'passeio', 'passeios', 'passivel', 'passo', 'passos', 'passou', 'pasta', 'patamar', 'patio', 'patria', 'patricia', 'paula', 'paulo', 'pax', 'paypal', 'paz', 'pb', 'pc', 'pdf', 'pe', 'peca', 'pecas', 'peco', 'pede', 'pedem', 'pedi', 'pedia', 'pediam', 'pedido', 'pedidos', 'pedimos', 'pedindo', 'pedir', 'pediram', 'pediu', 'pedro', 'pega', 'pegamos', 'pegando', 'pegar', 'pegaram', 'pegaria', 'pegariamos', 'pegarmos', 'pego', 'pegou', 'peguei', 'pelotas', 'pena', 'penalidade', 'penalidades', 'penalizacao', 'penalizada', 'penalizado', 'pendencia', 'pendente', 'pendentes', 'pensando', 'pensar', 'pensei', 'penso', 'pequena', 'pequenas', 'pequeno', 'pequenos', 'perante', 'perca', 'percebe', 'percebemos', 'percebendo', 'perceber', 'percebeu', 'percebi', 'percebido', 'percebo', 'percentual', 'perco', 'percurso', 'perda', 'perdas', 'perde', 'perdemos', 'perdendo', 'perder', 'perderam', 'perderei', 'perderia', 'perderiamos', 'perdermos', 'perdesse', 'perdessemos', 'perdeu', 'perdi', 'perdida', 'perdidas', 'perdido', 'perdidos', 'pereira', 'perfazendo', 'perfeitamente', 'perfeitas', 'perfeito', 'perfil', 'perfume', 'perfumes', 'pergunta', 'perguntado', 'perguntamos', 'perguntando', 'perguntar', 'perguntaram', 'perguntas', 'perguntei', 'pergunto', 'perguntou', 'periodo', 'periodos', 'permanece', 'permanecemos', 'permanecendo', 'permanecer', 'permaneceu', 'permaneci', 'permanecia', 'permaneco', 'permanencia', 'permissao', 'permita', 'permite', 'permitem', 'permitia', 'permitida', 'permitidas', 'permitido', 'permitidos', 'permitindo', 'permitir', 'permitiram', 'permitiria', 'permitisse', 'permitiu', 'perna', 'pernambuco', 'pernas', 'pernoitar', 'pernoite', 'persiste', 'perspectiva', 'pertence', 'pertences', 'pertinente', 'pertinentes', 'perto', 'peru', 'pes', 'pesada', 'pesadelo', 'pesado', 'pesagem', 'pesando', 'pesar', 'pesava', 'pese', 'peso', 'pesos', 'pesou', 'pesquisa', 'pesquisando', 'pesquisar', 'pesquisas', 'pesquisei', 'pessima', 'pessimas', 'pessimo', 'pessimos', 'pessoa', 'pessoais', 'pessoal', 'pessoalmente', 'pessoas', 'pet', 'peticao', 'petrolina', 'pets', 'pf', 'pgto', 'pi', 'piada', 'piloto', 'pilotos', 'pinto', 'pior', 'piorar', 'piores', 'piorou', 'pir', 'piso', 'pista', 'planejada', 'planejado', 'planejamento', 'planejamos', 'planejando', 'planejar', 'planejei', 'plano', 'planos', 'plantao', 'plastico', 'plataforma', 'platinum', 'plausivel', 'pleitear', 'pleiteio', 'pleito', 'plena', 'plenamente', 'pleno', 'plus', 'pm', 'pmw', 'pnae', 'poa', 'pode', 'podem', 'podemos', 'podendo', 'poder', 'podera', 'poderao', 'poderei', 'poderemos', 'poderia', 'poderiam', 'poderiamos', 'podermos', 'podia', 'podiam', 'podiamos', 'pois', 'policia', 'policial', 'politica', 'politicas', 'poltrona', 'poltronas', 'ponta', 'ponte', 'ponto', 'pontos', 'pontuacao', 'pontuacoes', 'pontuado', 'pontuados', 'pontualidade', 'pontuar', 'porao', 'porcentagem', 'porem', 'porque', 'porta', 'portador', 'portadora', 'portal', 'portando', 'portanto', 'portao', 'portaria', 'portarias', 'portas', 'porte', 'porto', 'portoes', 'portugal', 'portugues', 'pos', 'posicao', 'posicionamento', 'posicionar', 'positiva', 'positivo', 'possa', 'possam', 'possamos', 'posse', 'possibilidade', 'possibilidades', 'possibilita', 'possibilitando', 'possibilitar', 'possibilite', 'possiveis', 'possivel', 'possivelmente', 'posso', 'possuem', 'possui', 'possuia', 'possuiam', 'possuir', 'possuo', 'postergar', 'posterior', 'posteriores', 'posteriormente', 'posto', 'postos', 'postura', 'pouca', 'poucas', 'pouco', 'poucos', 'poupanca', 'pousada', 'pousado', 'pousamos', 'pousando', 'pousar', 'pouso', 'pousou', 'pq', 'pr', 'pra', 'praia', 'prancha', 'prata', 'pratica', 'praticada', 'praticado', 'praticados', 'praticamente', 'praticas', 'praxe', 'prazer', 'prazo', 'prazos', 'pre', 'precario', 'preceitua', 'precisa', 'precisam', 'precisamente', 'precisamos', 'precisando', 'precisar', 'precisarei', 'precisaria', 'precisariamos', 'precisas', 'precisasse', 'precisava', 'precisavam', 'precisavamos', 'precise', 'precisei', 'preciso', 'precisou', 'preco', 'preconiza', 'precos', 'preenchendo', 'preencher', 'preencheu', 'preenchi', 'preenchido', 'preenchidos', 'preenchimento', 'preferencia', 'preferenciais', 'preferencial', 'preferencialmente', 'preferi', 'prefiro', 'prejudica', 'prejudicada', 'prejudicado', 'prejudicados', 'prejudicando', 'prejudicar', 'prejudicial', 'prejudicou', 'prejuizo', 'prejuizos', 'premio', 'premium', 'preocupa', 'preocupacao', 'preocupada', 'preocupado', 'preocupados', 'preocupar', 'preocupou', 'preparada', 'preparado', 'preparados', 'preparo', 'preposta', 'preposto', 'prepostos', 'presa', 'presenca', 'presencial', 'presencialmente', 'presente', 'presentes', 'presidente', 'preso', 'presos', 'pressa', 'pressao', 'pressas', 'presta', 'prestacao', 'prestacoes', 'prestada', 'prestadas', 'prestado', 'prestadora', 'prestados', 'prestando', 'prestar', 'prestes', 'presteza', 'prestou', 'preta', 'pretende', 'pretendia', 'pretendida', 'pretendido', 'pretendo', 'pretensao', 'pretericao', 'preterido', 'preto', 'preve', 'prever', 'previa', 'previamente', 'previo', 'previsao', 'prevista', 'previstas', 'previsto', 'previstos', 'prezada', 'prezado', 'prezados', 'prima', 'primeira', 'primeiramente', 'primeiras', 'primeiro', 'primeiros', 'primo', 'principais', 'principal', 'principalmente', 'principio', 'principios', 'print', 'prints', 'prioridade', 'prioridades', 'prioritario', 'prioritarios', 'priscila', 'pro', 'problema', 'problemas', 'problematica', 'proceda', 'procede', 'procedente', 'proceder', 'procedeu', 'procedi', 'procedimento', 'procedimentos', 'processada', 'processado', 'processamento', 'processar', 'processo', 'processos', 'procon', 'procura', 'procurado', 'procurador', 'procuramos', 'procurando', 'procurar', 'procurarei', 'procurasse', 'procure', 'procurei', 'procuro', 'procurou', 'produto', 'produtos', 'profissionais', 'profissional', 'profissionalismo', 'profunda', 'profundamente', 'programa', 'programacao', 'programada', 'programadas', 'programado', 'programados', 'programamos', 'programando', 'programar', 'programas', 'programei', 'proibicao', 'proibida', 'proibido', 'projeto', 'prolongado', 'promessa', 'promessas', 'promete', 'prometeram', 'prometeu', 'prometida', 'prometido', 'prometidos', 'promo', 'promocao', 'promocionais', 'promocional', 'promocoes', 'promotor', 'promova', 'promover', 'promovida', 'pronta', 'prontamente', 'prontificou', 'pronto', 'prontos', 'propaganda', 'propagandas', 'propondo', 'proponho', 'propor', 'proporcao', 'proporcional', 'proporcionar', 'propos', 'proposital', 'proposito', 'proposta', 'propostas', 'proposto', 'propria', 'proprias', 'propriedade', 'proprio', 'proprios', 'propus', 'propuseram', 'prossegui', 'prosseguimento', 'prosseguir', 'prot', 'protecao', 'protesto', 'protocolo', 'protocolos', 'prova', 'provado', 'provando', 'provar', 'provas', 'provavel', 'provavelmente', 'proveniente', 'providencia', 'providenciado', 'providenciar', 'providencias', 'providencie', 'providenciou', 'provocado', 'provocados', 'provocou', 'proxima', 'proximas', 'proximidade', 'proximo', 'proximos', 'prudente', 'ps', 'psicologico', 'psicologicos', 'pt', 'pts', 'publica', 'publicacao', 'publicada', 'publicado', 'publicidade', 'publico', 'publicos', 'pude', 'pudemos', 'puder', 'puderam', 'pudesse', 'pudessem', 'pudessemos', 'punicao', 'punta', 'pura', 'puxador', 'pvh', 'qantas', 'qatar', 'qdo', 'qf', 'qq', 'qr', 'quadro', 'quais', 'quaisquer', 'qualidade', 'qualificacao', 'qualificaveis', 'qualquer', 'quantas', 'quantia', 'quantidade', 'quanto', 'quantos', 'quarenta', 'quarta', 'quarto', 'quartos', 'quase', 'quatro', 'quatrocentos', 'quebra', 'quebrada', 'quebradas', 'quebrado', 'quebrados', 'quebrar', 'quebraram', 'quebrou', 'queda', 'queijo', 'queira', 'queiroz', 'queixa', 'quente', 'quer', 'querem', 'queremos', 'querendo', 'querer', 'queria', 'queriam', 'queriamos', 'quero', 'questao', 'questionada', 'questionado', 'questionados', 'questionamento', 'questionamentos', 'questionamos', 'questionando', 'questionar', 'questionei', 'questiono', 'questionou', 'questoes', 'quilo', 'quilos', 'quinhentos', 'quinta', 'quinze', 'quis', 'quiser', 'quiseram', 'quiserem', 'quisesse', 'quisessemos', 'quitacao', 'raca', 'radio', 'rafael', 'raio', 'raiva', 'ramos', 'rao', 'rapaz', 'rapida', 'rapidamente', 'rapidez', 'rapido', 'raquel', 'rasgada', 'rasgado', 'rasgo', 'rastreamento', 'rastreio', 'razao', 'razoabilidade', 'razoavel', 'razoes', 'rbr', 're', 'reacomodacao', 'reacomodado', 'reacomodados', 'reacomodar', 'reagendado', 'reagendamento', 'reagendar', 'reais', 'real', 'realidade', 'realiza', 'realizacao', 'realizada', 'realizadas', 'realizado', 'realizados', 'realizamos', 'realizando', 'realizar', 'realizaram', 'realizarem', 'realizaria', 'realizarmos', 'realizasse', 'realize', 'realizei', 'realizo', 'realizou', 'realmente', 'realocacao', 'realocada', 'realocado', 'realocados', 'realocando', 'realocar', 'realocaram', 'realocou', 'reativacao', 'reativar', 'reaver', 'rec', 'receba', 'recebe', 'recebemos', 'recebendo', 'receber', 'recebera', 'receberam', 'receberei', 'receberia', 'receberiamos', 'recebesse', 'recebeu', 'recebi', 'recebida', 'recebidas', 'recebido', 'recebidos', 'recebimento', 'recebo', 'receio', 'receita', 'recem', 'recente', 'recentemente', 'recepcao', 'recepcionista', 'recibo', 'recibos', 'recife', 'reclamacao', 'reclamacoes', 'reclamada', 'reclamado', 'reclamamos', 'reclamando', 'reclamante', 'reclamantes', 'reclamar', 'reclame', 'reclameaqui', 'reclamei', 'reclamo', 'reclinava', 'recolher', 'recolocacao', 'recolocar', 'recomendacao', 'recomendado', 'recomendo', 'recomendou', 'reconhece', 'reconhecer', 'reconheceu', 'reconhecida', 'reconhecido', 'reconhecimento', 'reconheco', 'recordo', 'recorrente', 'recorrer', 'recorro', 'recuperacao', 'recuperar', 'recursal', 'recurso', 'recursos', 'recusa', 'recusada', 'recusado', 'recusam', 'recusando', 'recusar', 'recusaram', 'recusei', 'recusou', 'rede', 'redes', 'redirecionado', 'reducao', 'reduzida', 'reduzido', 'reduzir', 'reembarque', 'reembolsa', 'reembolsada', 'reembolsadas', 'reembolsado', 'reembolsados', 'reembolsam', 'reembolsando', 'reembolsar', 'reembolsaram', 'reembolsaria', 'reembolsariam', 'reembolsaveis', 'reembolsavel', 'reembolse', 'reembolsem', 'reembolso', 'reembolsos', 'reembolsou', 'reemissao', 'reemitir', 'ref', 'refazer', 'refeicao', 'refeicoes', 'refere', 'referencia', 'referente', 'referentes', 'referida', 'referidas', 'referido', 'referidos', 'refiz', 'reflexao', 'reforco', 'refrigerante', 'regiao', 'regina', 'regioes', 'registra', 'registrada', 'registradas', 'registrado', 'registrados', 'registramos', 'registrando', 'registrar', 'registraram', 'registrei', 'registro', 'registros', 'registrou', 'regra', 'regras', 'regressar', 'regresso', 'regulador', 'reguladora', 'regulamentacao', 'regulamento', 'regular', 'regularizacao', 'regularizado', 'regularizar', 'regularmente', 'reias', 'reis', 'reiteradamente', 'reitero', 'rejeitado', 'relacao', 'relacionada', 'relacionadas', 'relacionado', 'relacionados', 'relacionamento', 'relacoes', 'relata', 'relatada', 'relatado', 'relatados', 'relatando', 'relatar', 'relataram', 'relatei', 'relativa', 'relativamente', 'relativas', 'relativo', 'relativos', 'relato', 'relatorio', 'relatos', 'relatou', 'relevante', 'relocacao', 'relogio', 'remanejada', 'remanejado', 'remanejados', 'remanejamento', 'remanejar', 'remanescente', 'remarca', 'remarcacao', 'remarcacoes', 'remarcada', 'remarcadas', 'remarcado', 'remarcados', 'remarcando', 'remarcar', 'remarcaram', 'remarcou', 'remarque', 'remarquei', 'remedio', 'remedios', 'renata', 'renato', 'renegociada', 'renegociar', 'renovacao', 'reparacao', 'reparada', 'reparado', 'reparar', 'repare', 'reparei', 'reparo', 'reparos', 'repassada', 'repassadas', 'repassado', 'repassados', 'repassar', 'repasse', 'repassou', 'repente', 'repeticao', 'repetindo', 'repetir', 'repetiu', 'repita', 'repito', 'replica', 'repor', 'reportar', 'reposicao', 'reposta', 'repouso', 'representa', 'representante', 'representantes', 'reprogramacao', 'reprogramado', 'reprogramar', 'requeiro', 'requer', 'requeremos', 'requerendo', 'requerente', 'requerentes', 'requerer', 'requeri', 'requerida', 'requerido', 'requerimento', 'requisito', 'requisitos', 'res', 'resarcimento', 'rescindir', 'rescisao', 'reserva', 'reservada', 'reservadas', 'reservado', 'reservados', 'reservamos', 'reservar', 'reservas', 'reservei', 'resgatados', 'resgatar', 'resgate', 'resgatei', 'resgates', 'reside', 'residencia', 'residente', 'resido', 'residual', 'resolucao', 'resolucoes', 'resolva', 'resolvam', 'resolve', 'resolvem', 'resolvemos', 'resolvendo', 'resolver', 'resolveram', 'resolverem', 'resolveria', 'resolveriam', 'resolvermos', 'resolvesse', 'resolveu', 'resolvi', 'resolvia', 'resolvida', 'resolvido', 'resolvidos', 'resort', 'respaldo', 'respectiva', 'respectivamente', 'respectivas', 'respectivo', 'respectivos', 'respeita', 'respeitada', 'respeitado', 'respeitados', 'respeitando', 'respeitar', 'respeite', 'respeito', 'respeitosamente', 'responda', 'responde', 'respondem', 'respondendo', 'responder', 'responderam', 'respondeu', 'respondi', 'respondia', 'respondida', 'respondido', 'responsabilidade', 'responsabilidades', 'responsabiliza', 'responsabilizar', 'responsabilize', 'responsaveis', 'responsavel', 'resposta', 'respostas', 'ressalta', 'ressaltando', 'ressaltar', 'ressalte', 'ressalto', 'ressarca', 'ressarcida', 'ressarcido', 'ressarcidos', 'ressarcimento', 'ressarcimentos', 'ressarcir', 'resta', 'restando', 'restante', 'restantes', 'restaurante', 'restaurantes', 'restituicao', 'restituida', 'restituido', 'restituidos', 'restituir', 'resto', 'restou', 'restricao', 'restricoes', 'resultado', 'resultando', 'resultou', 'resumindo', 'resumo', 'retencao', 'retendo', 'reter', 'reteve', 'retido', 'retidos', 'retificacao', 'retira', 'retirada', 'retiradas', 'retirado', 'retirados', 'retirar', 'retiraram', 'retirei', 'retirou', 'retorna', 'retornado', 'retornam', 'retornamos', 'retornando', 'retornar', 'retornaram', 'retornarem', 'retornaria', 'retornariam', 'retornarmos', 'retornasse', 'retornava', 'retorne', 'retornei', 'retorno', 'retornou', 'retratacao', 'reuniao', 'reunioes', 'reveillon', 'reveja', 'revejam', 'revender', 'rever', 'reversao', 'reverter', 'revertido', 'revirada', 'revisao', 'revista', 'revisto', 'revolta', 'revoltado', 'revoltante', 'rg', 'rib', 'ribeirao', 'ribeiro', 'ricardo', 'ridicula', 'ridiculo', 'rigida', 'rimowa', 'rio', 'risco', 'riscos', 'rispida', 'rj', 'rn', 'ro', 'roberta', 'roberto', 'robson', 'rocha', 'roda', 'rodas', 'rodinha', 'rodinhas', 'rodovia', 'rodoviaria', 'rodoviario', 'rodrigo', 'rodrigues', 'rogerio', 'roma', 'rondonopolis', 'rosa', 'rota', 'roteiro', 'rotina', 'roubada', 'roubado', 'roubados', 'roubo', 'roupa', 'roupas', 'rs', 'rua', 'rude', 'ruim', 'rumo', 'sa', 'sabado', 'sabe', 'sabem', 'sabemos', 'sabendo', 'saber', 'saberia', 'sabia', 'sabiam', 'sabiamos', 'sabido', 'sac', 'sacanagem', 'saco', 'sacola', 'sacrificio', 'saem', 'safira', 'saga', 'saguao', 'sai', 'saia', 'saiba', 'saida', 'saidas', 'saido', 'saimos', 'saindo', 'sair', 'saira', 'sairam', 'sairia', 'sairiamos', 'sairmos', 'saisse', 'saiu', 'sala', 'salao', 'salario', 'saldo', 'salgado', 'salientar', 'saliento', 'salvador', 'salvo', 'samsonite', 'samsung', 'san', 'sanar', 'sancoes', 'sandra', 'sanduiche', 'santa', 'santana', 'santander', 'santarem', 'santiago', 'santo', 'santos', 'sapatos', 'saque', 'satisfacao', 'satisfatoria', 'satisfatorio', 'satisfeita', 'satisfeito', 'saude', 'sc', 'scl', 'screen', 'sds', 'sdu', 'secao', 'secretaria', 'sede', 'seg', 'segmentos', 'segue', 'seguem', 'segui', 'seguida', 'seguidas', 'seguido', 'seguidos', 'seguimos', 'seguindo', 'seguinte', 'seguintes', 'seguir', 'seguiria', 'seguirmos', 'seguiu', 'segunda', 'segundo', 'segundos', 'segura', 'seguradora', 'seguranca', 'seguro', 'seguros', 'sei', 'seis', 'seiscentos', 'selecao', 'selecionada', 'selecionado', 'selecionados', 'selecionar', 'selecionei', 'semana', 'semanas', 'semelhante', 'semelhantes', 'sempre', 'senao', 'sendo', 'senha', 'senhor', 'senhora', 'senhores', 'sensacao', 'sensibilidade', 'senso', 'sentada', 'sentado', 'sentados', 'sentar', 'sentei', 'sentenca', 'senti', 'sentido', 'sentimental', 'sentimento', 'sentimos', 'sentindo', 'sentir', 'separada', 'separadamente', 'separadas', 'separado', 'separados', 'sequencia', 'sequer', 'ser', 'serem', 'sergio', 'serie', 'seriedade', 'serio', 'serios', 'sermos', 'serve', 'servico', 'servicos', 'servido', 'servidor', 'servir', 'serviram', 'sessenta', 'set', 'sete', 'setecentos', 'setembro', 'setenta', 'setor', 'setores', 'sexta', 'shopping', 'show', 'si', 'sido', 'significa', 'sigo', 'silva', 'silveira', 'silvia', 'sim', 'similar', 'similares', 'simone', 'simples', 'simplesmente', 'simulacao', 'simular', 'sinal', 'sinceramente', 'sindrome', 'sinop', 'sinto', 'sistema', 'sistemas', 'sistemica', 'sistemico', 'site', 'sites', 'sitio', 'situacao', 'situacoes', 'sjp', 'sky', 'slz', 'smartphone', 'smile', 'smiles', 'sms', 'soares', 'sob', 'sobra', 'sobrando', 'sobre', 'sobrenome', 'sobrenomes', 'sobretudo', 'sobrinha', 'sobrinho', 'sobrou', 'sociais', 'social', 'socorro', 'sofre', 'sofremos', 'sofrendo', 'sofrer', 'sofreram', 'sofreu', 'sofri', 'sofrido', 'sofridos', 'sofrimento', 'sogra', 'sogro', 'sol', 'solicita', 'solicitacao', 'solicitacoes', 'solicitada', 'solicitadas', 'solicitado', 'solicitados', 'solicitam', 'solicitamos', 'solicitando', 'solicitar', 'solicitaram', 'solicitasse', 'solicitava', 'solicite', 'solicitei', 'solicito', 'solicitou', 'solidaria', 'solidariamente', 'solo', 'solteira', 'solucao', 'solucionada', 'solucionado', 'solucionar', 'solucionou', 'solucoes', 'som', 'soma', 'somado', 'somados', 'somam', 'somando', 'somente', 'sonhada', 'sonho', 'sonhos', 'sono', 'sorriso', 'sorte', 'soube', 'soubemos', 'souberam', 'soubesse', 'sousa', 'south', 'souza', 'sozinha', 'sozinho', 'sp', 'sr', 'sra', 'srs', 'srta', 'ss', 'ssa', 'staff', 'star', 'status', 'stj', 'stress', 'su', 'subir', 'subiu', 'submarino', 'submeter', 'submetida', 'submetido', 'submetidos', 'subsequente', 'subsequentes', 'subsidiariamente', 'substituicao', 'substituido', 'substituir', 'substituto', 'subtracao', 'subtraiam', 'subtraidos', 'sucessivos', 'sucesso', 'suco', 'suficiente', 'suficientemente', 'suficientes', 'sugeri', 'sugerido', 'sugerindo', 'sugerir', 'sugeriram', 'sugeriu', 'sugestao', 'sugestoes', 'sugiro', 'suja', 'sujeita', 'sujeito', 'sujo', 'sul', 'suma', 'sumido', 'sumiram', 'sumiu', 'super', 'supera', 'superior', 'superiores', 'supervisao', 'supervisor', 'supervisora', 'supervisores', 'suportados', 'suportar', 'suporte', 'suposta', 'supostamente', 'suposto', 'supra', 'supracitada', 'supracitado', 'supracitados', 'supresa', 'suprir', 'surgiu', 'surpreendentemente', 'surpreendida', 'surpreendido', 'surpreendidos', 'surpresa', 'surpreso', 'suspeita', 'suspensa', 'suspensao', 'suspenso', 'susto', 'swiss', 'sydney', 'ta', 'tabela', 'tablet', 'tag', 'tais', 'tal', 'talvez', 'tam', 'tamanha', 'tamanho', 'tampouco', 'tange', 'tanta', 'tantas', 'tanto', 'tantos', 'tao', 'tap', 'tarde', 'tarifa', 'tarifaria', 'tarifarias', 'tarifas', 'tatiana', 'tatiane', 'tava', 'taxa', 'taxas', 'taxi', 'taxis', 'taxista', 'tb', 'tbm', 'tecido', 'tecnica', 'tecnicas', 'tecnico', 'tecnicos', 'teixeira', 'tel', 'tela', 'telas', 'telefonar', 'telefone', 'telefonei', 'telefonema', 'telefonemas', 'telefones', 'telefonica', 'telefonicas', 'telefonico', 'telefonicos', 'televendas', 'televisao', 'tema', 'temperatura', 'tempo', 'temporada', 'temporal', 'tempos', 'tendo', 'tenis', 'tenta', 'tentado', 'tentamos', 'tentando', 'tentar', 'tentaram', 'tentarmos', 'tentasse', 'tentativa', 'tentativas', 'tentava', 'tente', 'tentei', 'tento', 'tentou', 'teor', 'teoricamente', 'ter', 'terca', 'terceira', 'terceirizada', 'terceiro', 'terceiros', 'terem', 'teresina', 'terminado', 'terminais', 'terminal', 'terminar', 'termino', 'terminou', 'termo', 'termos', 'terra', 'terrestre', 'territorio', 'terrivel', 'tese', 'teste', 'testemunhas', 'teto', 'texto', 'thais', 'that', 'the', 'thiago', 'ti', 'tia', 'tiago', 'ticket', 'tickets', 'tido', 'time', 'tio', 'tipo', 'tipos', 'tirado', 'tirando', 'tirar', 'tiraram', 'tirei', 'tirou', 'titular', 'titularidade', 'titulo', 'tj', 'tjrs', 'tkt', 'to', 'toa', 'tocante', 'toda', 'todas', 'todavia', 'todo', 'todos', 'tom', 'toma', 'tomada', 'tomadas', 'tomado', 'tomando', 'tomar', 'tomarei', 'tome', 'tomei', 'tomem', 'tomou', 'top', 'topazio', 'torna', 'tornando', 'tornar', 'torno', 'tornou', 'toronto', 'torrejais', 'torres', 'total', 'totalidade', 'totaliza', 'totalizam', 'totalizando', 'totalizaram', 'totalizou', 'totalmente', 'totem', 'toten', 'totens', 'tp', 'trabalha', 'trabalham', 'trabalhamos', 'trabalhando', 'trabalhar', 'trabalho', 'trabalhos', 'trafego', 'trajeto', 'trajetos', 'tramite', 'tramites', 'tranquila', 'tranquilamente', 'tranquilidade', 'tranquilo', 'transacao', 'transacoes', 'transcorrido', 'transfer', 'transferencia', 'transferencias', 'transferi', 'transferida', 'transferido', 'transferidos', 'transferindo', 'transferir', 'transferiram', 'transferiu', 'transformou', 'transito', 'translado', 'transparencia', 'transparente', 'transportada', 'transportado', 'transportador', 'transportadora', 'transportados', 'transportar', 'transporte', 'transportes', 'transtorno', 'transtornos', 'traria', 'tras', 'traseira', 'traslado', 'trata', 'tratada', 'tratado', 'tratados', 'tratam', 'tratamento', 'tratando', 'tratar', 'trataram', 'tratativa', 'tratativas', 'tratava', 'trate', 'trato', 'tratou', 'trauma', 'trava', 'travel', 'travelgenio', 'travou', 'traz', 'trazendo', 'trazer', 'trecho', 'trechos', 'treinamento', 'trem', 'tremenda', 'tremendo', 'tres', 'trezentos', 'tribunais', 'tribunal', 'trinta', 'triplo', 'tripulacao', 'tripulante', 'tripulantes', 'triste', 'tristeza', 'troca', 'trocada', 'trocado', 'trocados', 'trocando', 'trocar', 'trocaram', 'trocas', 'trocou', 'troquei', 'trouxe', 'trt', 'tsa', 'tudo', 'tudoazul', 'tumulto', 'turbulencia', 'turismo', 'turistico', 'turkish', 'turma', 'turno', 'tv', 'twitter', 'tx', 'ua', 'uber', 'uberaba', 'uberlandia', 'udi', 'ue', 'ultima', 'ultimas', 'ultimo', 'ultimos', 'ultrapassa', 'ultrapassado', 'ultrapassar', 'ultrapasse', 'ultrapassou', 'umas', 'un', 'uniao', 'unica', 'unicamente', 'unicas', 'unico', 'unicos', 'unidade', 'unidos', 'unificacao', 'unilateral', 'unilateralmente', 'united', 'universidade', 'uns', 'up', 'upgrade', 'ura', 'urgencia', 'urgente', 'urgentemente', 'urgentes', 'uruguai', 'us', 'usa', 'usada', 'usadas', 'usado', 'usados', 'usando', 'usar', 'usaria', 'usd', 'usei', 'uso', 'usou', 'usuario', 'usuarios', 'usufruir', 'uteis', 'uti', 'util', 'utiliza', 'utilizacao', 'utilizada', 'utilizadas', 'utilizado', 'utilizados', 'utilizamos', 'utilizando', 'utilizar', 'utilizarei', 'utilizaria', 'utilize', 'utilizei', 'utilizo', 'utilizou', 'va', 'vacina', 'vacinacao', 'vaga', 'vagas', 'vagos', 'vai', 'valadares', 'vale', 'valendo', 'valer', 'valeria', 'valia', 'valida', 'validacao', 'validade', 'validar', 'valido', 'validos', 'valor', 'valores', 'vamos', 'van', 'vancouver', 'vanessa', 'vantagem', 'vantagens', 'vantajoso', 'vao', 'vara', 'varia', 'variacao', 'varias', 'varios', 'vazia', 'vazio', 'vazios', 'vc', 'vcp', 'vcs', 've', 'vedada', 'vedado', 'vegas', 'veiculada', 'veicular', 'veiculo', 'veiculos', 'veio', 'veja', 'vejam', 'vejamos', 'vejo', 'velho', 'vem', 'vence', 'vencer', 'venceu', 'vencido', 'vencidos', 'vencimento', 'venda', 'vendas', 'vende', 'vendedora', 'vendem', 'vendendo', 'vender', 'venderam', 'vendeu', 'vendida', 'vendidas', 'vendido', 'vendidos', 'vendo', 'veneza', 'venha', 'venho', 'ver', 'vera', 'veracidade', 'verao', 'verdade', 'verdadeira', 'verdadeiro', 'verde', 'vergonha', 'vergonhoso', 'verifica', 'verificacao', 'verificada', 'verificado', 'verificamos', 'verificando', 'verificar', 'verificarem', 'verificasse', 'verifico', 'verificou', 'verifique', 'verifiquei', 'verifiquem', 'vermelha', 'vermelho', 'versa', 'versao', 'vespera', 'vesperas', 'vestuario', 'vexatoria', 'vez', 'vezes', 'vi', 'via', 'viabilizar', 'viacao', 'viagem', 'viagens', 'viaja', 'viajado', 'viajam', 'viajamos', 'viajando', 'viajanet', 'viajante', 'viajar', 'viajara', 'viajaram', 'viajarei', 'viajaria', 'viajarmos', 'viajava', 'viaje', 'viajei', 'viajem', 'viajo', 'viajou', 'viana', 'vias', 'viavel', 'vice', 'victor', 'victoria', 'vida', 'vidas', 'vide', 'video', 'videos', 'vidro', 'vieira', 'viemos', 'vier', 'vieram', 'viesse', 'vigencia', 'vigente', 'vigentes', 'vigor', 'vila', 'vim', 'vimos', 'vinculada', 'vinculado', 'vinda', 'vindas', 'vindo', 'vinha', 'vinho', 'vinicius', 'vinte', 'viola', 'violacao', 'violada', 'violado', 'violando', 'vip', 'vir', 'vira', 'viracopos', 'virada', 'viram', 'virar', 'viria', 'virou', 'virtual', 'virtude', 'visa', 'visando', 'visao', 'visita', 'visitar', 'visivel', 'vista', 'vistas', 'visto', 'vistoria', 'visualizar', 'visualizei', 'vitima', 'vitor', 'vitoria', 'viu', 'viviane', 'vix', 'vo', 'voado', 'voados', 'voamos', 'voando', 'voar', 'voaria', 'voe', 'voeazul', 'voegol', 'voei', 'volta', 'voltado', 'voltamos', 'voltando', 'voltar', 'voltaram', 'voltaria', 'voltarmos', 'voltas', 'voltasse', 'voltava', 'volte', 'voltei', 'volto', 'voltou', 'volume', 'volumes', 'voluntario', 'voluntarios', 'vontade', 'voo', 'voos', 'voou', 'vossa', 'vou', 'voucher', 'vouchers', 'voz', 'vueling', 'vulneravel', 'walmart', 'was', 'washington', 'web', 'website', 'whatsapp', 'with', 'world', 'www', 'xxx', 'xxxx', 'york', 'you', 'zelandia', 'zelo', 'zero', 'ziper', 'zona', 'zupper', 'zurique']\n"
     ]
    }
   ],
   "source": [
    "# vocabulario de todas das palavaras mais importantes de todas requisições\n",
    "vcab=vectorizer.get_feature_names()\n",
    "print(vcab)"
   ]
  },
  {
   "cell_type": "markdown",
   "metadata": {
    "_uuid": "03dd4344c1eab3946b25ef3140ca680c13b3d945"
   },
   "source": [
    "**Random Forest**\n",
    "\n",
    "Neste ponto, temos um dataset totalmente formatado e com a aplicação da tokeninzação, BOW e transformação em array. Portanto vamos reliazar um aprendizado supervisionado usando esses dados, primeiramente vamos dividir o dataset em treino (X) e validação (Y) para poder avaliar esse modelo na predição quais avaliações futuro serão positivas ou negativas."
   ]
  },
  {
   "cell_type": "code",
   "execution_count": 26,
   "metadata": {},
   "outputs": [
    {
     "data": {
      "text/plain": [
       "array([[0, 0, 0, ..., 0, 0, 0],\n",
       "       [0, 0, 0, ..., 0, 0, 0],\n",
       "       [0, 0, 0, ..., 0, 0, 0],\n",
       "       ...,\n",
       "       [0, 0, 0, ..., 0, 0, 0],\n",
       "       [0, 0, 0, ..., 0, 0, 0],\n",
       "       [0, 0, 0, ..., 0, 0, 0]], dtype=int64)"
      ]
     },
     "execution_count": 26,
     "metadata": {},
     "output_type": "execute_result"
    }
   ],
   "source": [
    "train_data_features"
   ]
  },
  {
   "cell_type": "code",
   "execution_count": 27,
   "metadata": {
    "_uuid": "d7ff5b3753d292a4a98afef162f5eca36b0357c8",
    "collapsed": true
   },
   "outputs": [],
   "source": [
    "from sklearn.model_selection import train_test_split\n",
    "# Split dos dados em treino e validação\n",
    "X_train, X_test, y_train, y_test = train_test_split(train_data_features, train[\"TEMA\"], test_size=0.2, random_state=42)"
   ]
  },
  {
   "cell_type": "code",
   "execution_count": 28,
   "metadata": {
    "_uuid": "da1cf91088e44f90ed93f7ae1ded068ca6eb91f2"
   },
   "outputs": [
    {
     "name": "stdout",
     "output_type": "stream",
     "text": [
      "Wall time: 2min 10s\n"
     ]
    }
   ],
   "source": [
    "from sklearn.ensemble import RandomForestClassifier\n",
    "forest=RandomForestClassifier(n_estimators=100, random_state=42)\n",
    "%time forest = forest.fit( X_train, y_train )"
   ]
  },
  {
   "cell_type": "code",
   "execution_count": 29,
   "metadata": {
    "collapsed": true
   },
   "outputs": [],
   "source": [
    "result = forest.predict(X_test)"
   ]
  },
  {
   "cell_type": "code",
   "execution_count": 30,
   "metadata": {
    "_uuid": "655ab300e7259ec65b7bcc7cf350836c1e88903d",
    "scrolled": true
   },
   "outputs": [
    {
     "data": {
      "text/plain": [
       "0.67191298784389"
      ]
     },
     "execution_count": 30,
     "metadata": {},
     "output_type": "execute_result"
    }
   ],
   "source": [
    "from sklearn.metrics import accuracy_score\n",
    "accuracy_score(y_test, result)"
   ]
  },
  {
   "cell_type": "markdown",
   "metadata": {},
   "source": [
    "**Regressão logarítmica**"
   ]
  },
  {
   "cell_type": "code",
   "execution_count": 31,
   "metadata": {
    "collapsed": true
   },
   "outputs": [],
   "source": [
    "from sklearn.linear_model import LogisticRegression\n",
    "clf = LogisticRegression(random_state=42, solver='lbfgs')"
   ]
  },
  {
   "cell_type": "code",
   "execution_count": 32,
   "metadata": {},
   "outputs": [
    {
     "name": "stdout",
     "output_type": "stream",
     "text": [
      "Wall time: 4min 39s\n"
     ]
    }
   ],
   "source": [
    "%time clf = clf.fit( X_train, y_train )\n",
    "result3 = clf.predict(X_test)"
   ]
  },
  {
   "cell_type": "code",
   "execution_count": 33,
   "metadata": {},
   "outputs": [
    {
     "data": {
      "text/plain": [
       "0.6614203454894434"
      ]
     },
     "execution_count": 33,
     "metadata": {},
     "output_type": "execute_result"
    }
   ],
   "source": [
    "from sklearn.metrics import accuracy_score\n",
    "accuracy_score(y_test, result3)"
   ]
  },
  {
   "cell_type": "markdown",
   "metadata": {},
   "source": [
    "**Análise dos erros**"
   ]
  },
  {
   "cell_type": "code",
   "execution_count": 34,
   "metadata": {},
   "outputs": [
    {
     "data": {
      "text/plain": [
       "array([[645,   1,  72,   8,  42,  29,  41,  22,  15,  39,   5],\n",
       "       [  5, 783,   0,   3,  46,  13,  14,  27,  12,  54,   8],\n",
       "       [ 13,   1, 220,  12,  30,  67,   3,  11,  36,  12,   1],\n",
       "       [  2,   3,  18, 619,  56,   9,   3,   7,  21,  38,   4],\n",
       "       [ 10,  27,  82,  66, 710,  52,   5,  42,  75, 103,   8],\n",
       "       [ 22,   4, 322,  19,  54, 809,   3,  19,  97,  23,   4],\n",
       "       [122,  38,  24,   6,  26,  12, 865, 110,  33,  65,  17],\n",
       "       [  4,   3,  14,   2,  14,   6,   8, 239,   3,   9,   3],\n",
       "       [  6,   2,  39,   3,  15,  16,   7,   1, 226,  28,   1],\n",
       "       [  3,   6,   6,   7,  20,   7,   7,   9,  12, 124,   9],\n",
       "       [  0,   0,   0,   0,   0,   0,   0,   0,   0,   1,  11]],\n",
       "      dtype=int64)"
      ]
     },
     "execution_count": 34,
     "metadata": {},
     "output_type": "execute_result"
    }
   ],
   "source": [
    "from sklearn.metrics import confusion_matrix\n",
    "confusion_matrix(result, y_test, labels=train['TEMA'].unique())"
   ]
  },
  {
   "cell_type": "code",
   "execution_count": 46,
   "metadata": {},
   "outputs": [
    {
     "data": {
      "text/plain": [
       "<matplotlib.axes._subplots.AxesSubplot at 0x1d3e224fe80>"
      ]
     },
     "execution_count": 46,
     "metadata": {},
     "output_type": "execute_result"
    },
    {
     "data": {
      "image/png": "[encoded data removed]",
      "text/plain": [
       "<Figure size 720x504 with 2 Axes>"
      ]
     },
     "metadata": {},
     "output_type": "display_data"
    }
   ],
   "source": [
    "import seaborn as sn\n",
    "import matplotlib.pyplot as plt\n",
    "array = confusion_matrix(result, y_test, labels=train['TEMA'].unique())\n",
    "array = array.astype('float') / array.sum(axis=1)[:, np.newaxis] #normalização dos valores \n",
    "df_cm = pd.DataFrame(array, index = train['TEMA'].unique(), #cria um data frame para base ao gráfico\n",
    "                  columns = train['TEMA'].unique())\n",
    "plt.figure(figsize = (10,7)) \n",
    "sn.heatmap(df_cm, annot=True, cmap=sn.light_palette((210, 90, 60), input=\"husl\"))"
   ]
  },
  {
   "cell_type": "markdown",
   "metadata": {},
   "source": [
    "**Usando o modelo criado**"
   ]
  },
  {
   "cell_type": "code",
   "execution_count": 36,
   "metadata": {
    "collapsed": true
   },
   "outputs": [],
   "source": [
    "# vamos simular uma requisição de alteração de passagem bem direta e simples para testar o modelo estrapolando dados\n",
    "word = \"alteração da minha passagem\""
   ]
  },
  {
   "cell_type": "code",
   "execution_count": 37,
   "metadata": {
    "scrolled": true
   },
   "outputs": [
    {
     "data": {
      "text/plain": [
       "'alteracao passagem'"
      ]
     },
     "execution_count": 37,
     "metadata": {},
     "output_type": "execute_result"
    }
   ],
   "source": [
    "# aplicamos a formatação\n",
    "sample = review_to_words(word)\n",
    "sample"
   ]
  },
  {
   "cell_type": "code",
   "execution_count": 38,
   "metadata": {},
   "outputs": [
    {
     "data": {
      "text/plain": [
       "['alteracao passagem']"
      ]
     },
     "execution_count": 38,
     "metadata": {},
     "output_type": "execute_result"
    }
   ],
   "source": [
    "# o modelo só aceita entrada array ou dataframe, portanto vamos criar uma também para o teste\n",
    "clean_train_review=[]\n",
    "clean_train_review.append(review_to_words(word))\n",
    "clean_train_review"
   ]
  },
  {
   "cell_type": "code",
   "execution_count": 39,
   "metadata": {},
   "outputs": [
    {
     "data": {
      "text/plain": [
       "array([[0, 0, 0, ..., 0, 0, 0]], dtype=int64)"
      ]
     },
     "execution_count": 39,
     "metadata": {},
     "output_type": "execute_result"
    }
   ],
   "source": [
    "# aplicamos a tokenização do texto teste\n",
    "sample_final=vectorizer.transform(clean_train_review)\n",
    "# aplicamos array numpy\n",
    "sample_final=sample_final.toarray()\n",
    "sample_final"
   ]
  },
  {
   "cell_type": "code",
   "execution_count": 40,
   "metadata": {},
   "outputs": [
    {
     "name": "stdout",
     "output_type": "stream",
     "text": [
      "['Alteração pelo passageiro'] alteração da minha passagem\n"
     ]
    }
   ],
   "source": [
    "# aplicar o predicit no modelo\n",
    "result2 = forest.predict(sample_final)\n",
    "print (result2, word)"
   ]
  },
  {
   "cell_type": "code",
   "execution_count": 41,
   "metadata": {
    "collapsed": true
   },
   "outputs": [],
   "source": [
    "# função para aplicar as transformações e realizar as predições\n",
    "def predict_coment(word):\n",
    "    to_array=[]\n",
    "    to_array.append(review_to_words(word))\n",
    "    sample_final=vectorizer.transform(to_array)\n",
    "    sample_final=sample_final.toarray()\n",
    "    result = forest.predict(sample_final)    \n",
    "    return result, word"
   ]
  },
  {
   "cell_type": "code",
   "execution_count": 42,
   "metadata": {
    "collapsed": true
   },
   "outputs": [],
   "source": [
    "test = \"Solicito informações /esclarecimentos e/ou soluções sobre a postura negligente e imparcial da Cia aérea Avianca Brasil, em relação a omissão de informação e responsabilidade pela minha estadia e alimentação em razão aos atrasos/cancelamentos do voos da companhia aérea, gerando prejuízos financeiros, danos morais e transtornos emocionais não havendo planejamento preventivo para evitar problemas ao consumidor. Desta forma, a própria Cia aérea Avianca Brasil alegou não arcar com os danos causados e que os passageiros afetados procurassem os seus direitos e reembolso para eventuais custos extras, se eximindo também da responsabilidade de realocação em outras cias aéreas parceiras.\""
   ]
  },
  {
   "cell_type": "markdown",
   "metadata": {},
   "source": [
    "https://www.reclameaqui.com.br/avianca/mudanca-de-voo_vlZ7CurlvKdOWkq-/"
   ]
  },
  {
   "cell_type": "code",
   "execution_count": 43,
   "metadata": {},
   "outputs": [
    {
     "data": {
      "text/plain": [
       "(array(['Execução do voo'], dtype=object),\n",
       " 'Solicito informações /esclarecimentos e/ou soluções sobre a postura negligente e imparcial da Cia aérea Avianca Brasil, em relação a omissão de informação e responsabilidade pela minha estadia e alimentação em razão aos atrasos/cancelamentos do voos da companhia aérea, gerando prejuízos financeiros, danos morais e transtornos emocionais não havendo planejamento preventivo para evitar problemas ao consumidor. Desta forma, a própria Cia aérea Avianca Brasil alegou não arcar com os danos causados e que os passageiros afetados procurassem os seus direitos e reembolso para eventuais custos extras, se eximindo também da responsabilidade de realocação em outras cias aéreas parceiras.')"
      ]
     },
     "execution_count": 43,
     "metadata": {},
     "output_type": "execute_result"
    }
   ],
   "source": [
    "predict_coment(test)"
   ]
  },
  {
   "cell_type": "code",
   "execution_count": 44,
   "metadata": {
    "collapsed": true
   },
   "outputs": [],
   "source": [
    "test2 = \"Realizei a compra de um pacote da Decolar em 01/08/2018 para viagem em 20/06/2019 (Ou seja) quase 01 ano. Escolhemos os horários para ficar tranquilos quanto a estadia no destino e conexões. Porém chega a Gol em 24/04/2019 e coloca minha chega no local de minha conexão no horário que o Vôo irá sair do Galeão para Buenos Aires. Acredito que até o presente momento não existe a possibilidade de tele transporte entre aeronaves. Liguei para o atendimento, protocolo 190425012943 no qual a atendente pediu para aguardar e também já ir olhando na grade outros horários, se escolhi o horário matutino é porque não posso chegar em meu destino a noite. Solicito atenção ao caso pois chega ser insano eu ter que alinhar algo tão nítido. Horário de chegada no mesmo horário de conexão.\""
   ]
  },
  {
   "cell_type": "markdown",
   "metadata": {},
   "source": [
    "https://www.reclameaqui.com.br/gol/alteracao-de-voo_jc9uUzpM6SbHyesa/"
   ]
  },
  {
   "cell_type": "code",
   "execution_count": 45,
   "metadata": {},
   "outputs": [
    {
     "data": {
      "text/plain": [
       "(array(['Alteração pela empresa aérea'], dtype=object),\n",
       " 'Realizei a compra de um pacote da Decolar em 01/08/2018 para viagem em 20/06/2019 (Ou seja) quase 01 ano. Escolhemos os horários para ficar tranquilos quanto a estadia no destino e conexões. Porém chega a Gol em 24/04/2019 e coloca minha chega no local de minha conexão no horário que o Vôo irá sair do Galeão para Buenos Aires. Acredito que até o presente momento não existe a possibilidade de tele transporte entre aeronaves. Liguei para o atendimento, protocolo 190425012943 no qual a atendente pediu para aguardar e também já ir olhando na grade outros horários, se escolhi o horário matutino é porque não posso chegar em meu destino a noite. Solicito atenção ao caso pois chega ser insano eu ter que alinhar algo tão nítido. Horário de chegada no mesmo horário de conexão.')"
      ]
     },
     "execution_count": 45,
     "metadata": {},
     "output_type": "execute_result"
    }
   ],
   "source": [
    "predict_coment(test2)"
   ]
  }
 ],
 "metadata": {
  "kernelspec": {
   "display_name": "Python 3",
   "language": "python",
   "name": "python3"
  },
  "language_info": {
   "codemirror_mode": {
    "name": "ipython",
    "version": 3
   },
   "file_extension": ".py",
   "mimetype": "text/x-python",
   "name": "python",
   "nbconvert_exporter": "python",
   "pygments_lexer": "ipython3",
   "version": "3.6.2"
  }
 },
 "nbformat": 4,
 "nbformat_minor": 1
}
